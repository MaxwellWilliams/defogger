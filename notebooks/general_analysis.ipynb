{
 "cells": [
  {
   "cell_type": "markdown",
   "metadata": {},
   "source": [
    "# General Data Analysis"
   ]
  },
  {
   "cell_type": "code",
   "execution_count": 1,
   "metadata": {},
   "outputs": [],
   "source": [
    "import pandas as pd\n",
    "import matplotlib.pyplot as plt"
   ]
  },
  {
   "cell_type": "markdown",
   "metadata": {},
   "source": [
    "## Retreive Data From LA City's API"
   ]
  },
  {
   "cell_type": "code",
   "execution_count": 2,
   "metadata": {},
   "outputs": [],
   "source": [
    "max_rows = 2000000\n",
    "url = 'https://data.lacity.org/resource/7fvc-faax.csv?$limit=' + str(max_rows)\n",
    "df = pd.read_csv(url)"
   ]
  },
  {
   "cell_type": "code",
   "execution_count": 3,
   "metadata": {},
   "outputs": [
    {
     "name": "stdout",
     "output_type": "stream",
     "text": [
      "1678869\n"
     ]
    }
   ],
   "source": [
    "print(len(df))"
   ]
  },
  {
   "cell_type": "markdown",
   "metadata": {},
   "source": [
    "## Column Titles"
   ]
  },
  {
   "cell_type": "code",
   "execution_count": 11,
   "metadata": {},
   "outputs": [
    {
     "data": {
      "text/plain": [
       "['area_id',\n",
       " 'area_name',\n",
       " 'crm_cd',\n",
       " 'crm_cd_1',\n",
       " 'crm_cd_2',\n",
       " 'crm_cd_3',\n",
       " 'crm_cd_4',\n",
       " 'crm_cd_desc',\n",
       " 'cross_street',\n",
       " 'date_occ',\n",
       " 'date_rptd',\n",
       " 'dr_no',\n",
       " 'location',\n",
       " 'location_1',\n",
       " 'location_1_address',\n",
       " 'location_1_city',\n",
       " 'location_1_state',\n",
       " 'location_1_zip',\n",
       " 'mocodes',\n",
       " 'premis_cd',\n",
       " 'premis_desc',\n",
       " 'rpt_dist_no',\n",
       " 'status',\n",
       " 'status_desc',\n",
       " 'time_occ',\n",
       " 'vict_age',\n",
       " 'vict_descent',\n",
       " 'vict_sex',\n",
       " 'weapon_desc',\n",
       " 'weapon_used_cd']"
      ]
     },
     "execution_count": 11,
     "metadata": {},
     "output_type": "execute_result"
    }
   ],
   "source": [
    "list(df)"
   ]
  },
  {
   "cell_type": "markdown",
   "metadata": {},
   "source": [
    "## Analysis"
   ]
  },
  {
   "cell_type": "code",
   "execution_count": null,
   "metadata": {},
   "outputs": [],
   "source": [
    "plt.figure();\n",
    "df['crm_cd'].plot(kind='bar')"
   ]
  },
  {
   "cell_type": "code",
   "execution_count": 7,
   "metadata": {},
   "outputs": [
    {
     "data": {
      "text/plain": [
       "0          740\n",
       "1          888\n",
       "2          330\n",
       "3          330\n",
       "4          745\n",
       "5          510\n",
       "6          888\n",
       "7          210\n",
       "8          740\n",
       "9          901\n",
       "10         626\n",
       "11         442\n",
       "12         624\n",
       "13         439\n",
       "14         442\n",
       "15         210\n",
       "16         330\n",
       "17         330\n",
       "18         440\n",
       "19         745\n",
       "20         745\n",
       "21         740\n",
       "22         330\n",
       "23         350\n",
       "24         668\n",
       "25         745\n",
       "26         354\n",
       "27         930\n",
       "28         510\n",
       "29         740\n",
       "          ... \n",
       "1678839    341\n",
       "1678840    310\n",
       "1678841    310\n",
       "1678842    310\n",
       "1678843    440\n",
       "1678844    900\n",
       "1678845    740\n",
       "1678846    901\n",
       "1678847    930\n",
       "1678848    626\n",
       "1678849    420\n",
       "1678850    956\n",
       "1678851    740\n",
       "1678852    330\n",
       "1678853    510\n",
       "1678854    210\n",
       "1678855    310\n",
       "1678856    626\n",
       "1678857    510\n",
       "1678858    933\n",
       "1678859    310\n",
       "1678860    440\n",
       "1678861    510\n",
       "1678862    330\n",
       "1678863    624\n",
       "1678864    341\n",
       "1678865    626\n",
       "1678866    354\n",
       "1678867    812\n",
       "1678868    624\n",
       "Name: crm_cd, Length: 1678869, dtype: int64"
      ]
     },
     "execution_count": 7,
     "metadata": {},
     "output_type": "execute_result"
    }
   ],
   "source": [
    "df['crm_cd']"
   ]
  },
  {
   "cell_type": "code",
   "execution_count": null,
   "metadata": {},
   "outputs": [],
   "source": []
  }
 ],
 "metadata": {
  "kernelspec": {
   "display_name": "Python 3",
   "language": "python",
   "name": "python3"
  },
  "language_info": {
   "codemirror_mode": {
    "name": "ipython",
    "version": 3
   },
   "file_extension": ".py",
   "mimetype": "text/x-python",
   "name": "python",
   "nbconvert_exporter": "python",
   "pygments_lexer": "ipython3",
   "version": "3.5.2"
  }
 },
 "nbformat": 4,
 "nbformat_minor": 2
}
