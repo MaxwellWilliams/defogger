{
 "cells": [
  {
   "cell_type": "markdown",
   "metadata": {},
   "source": [
    "# SciKit-Learn Machine Learning"
   ]
  },
  {
   "cell_type": "code",
   "execution_count": 1,
   "metadata": {},
   "outputs": [],
   "source": [
    "import pandas as pd\n",
    "# import matplotlib.pyplot as plt\n",
    "from datetime import datetime, date, time\n",
    "# from collections import OrderedDict\n",
    "from sklearn import cluster, datasets, preprocessing\n",
    "# from sklearn.cluster import AgglomerativeClustering\n",
    "from sklearn.neural_network import BernoulliRBM\n",
    "\n",
    "from lapd_codes.crime_codes import crime_codes\n",
    "from lapd_codes.mo_codes import mo_codes"
   ]
  },
  {
   "cell_type": "code",
   "execution_count": 2,
   "metadata": {},
   "outputs": [],
   "source": [
    "max_rows = 2000000\n",
    "# max_rows = 10\n",
    "url = 'https://data.lacity.org/resource/7fvc-faax.csv?$limit=' + str(max_rows)\n",
    "df = pd.read_csv(url)"
   ]
  },
  {
   "cell_type": "code",
   "execution_count": 3,
   "metadata": {},
   "outputs": [
    {
     "name": "stdout",
     "output_type": "stream",
     "text": [
      "Index(['area_id', 'area_name', 'crm_cd', 'crm_cd_1', 'crm_cd_2', 'crm_cd_3',\n",
      "       'crm_cd_4', 'crm_cd_desc', 'cross_street', 'date_occ', 'date_rptd',\n",
      "       'dr_no', 'location', 'location_1', 'location_1_address',\n",
      "       'location_1_city', 'location_1_state', 'location_1_zip', 'mocodes',\n",
      "       'premis_cd', 'premis_desc', 'rpt_dist_no', 'status', 'status_desc',\n",
      "       'time_occ', 'vict_age', 'vict_descent', 'vict_sex', 'weapon_desc',\n",
      "       'weapon_used_cd'],\n",
      "      dtype='object')\n"
     ]
    }
   ],
   "source": [
    "print(df.keys())"
   ]
  },
  {
   "cell_type": "code",
   "execution_count": 5,
   "metadata": {
    "scrolled": false
   },
   "outputs": [],
   "source": [
    "def remove_columns(ml_df, columns):\n",
    "    for column in columns:\n",
    "        ml_df = ml_df.drop(column, 1)\n",
    "    return ml_df  \n",
    "\n",
    "def remove_partial_rows(ml_df):\n",
    "    null_indicies  = ml_df.index[ml_df.isnull().any(axis=1)].tolist()\n",
    "    return ml_df.drop(null_indicies)\n",
    "        \n",
    "def format_occ_datetime(ml_df):\n",
    "    date_occ_index = list(ml_df.keys()).index('date_occ')\n",
    "    time_occ_index = list(ml_df.keys()).index('time_occ')\n",
    "    datetimes = []\n",
    "    for row in ml_df.values:\n",
    "        date_occured = datetime.strptime(row[date_occ_index], '%Y-%m-%dT%H:%M:%S.%f')\n",
    "        time_occured = str(row[time_occ_index])\n",
    "\n",
    "        if len(time_occured) == 4:\n",
    "            hour = int(time_occured[0:2])\n",
    "            minute = int(time_occured[2:len(time_occured)])\n",
    "        elif len(time_occured) == 3:\n",
    "            hour = int(time_occured[0])\n",
    "            minute = int(time_occured[1:len(time_occured)])\n",
    "        else:\n",
    "            hour = 0\n",
    "            minute = int(time_occured[0:len(time_occured)])\n",
    "\n",
    "        datetime_occured  = date_occured.replace(hour=hour, minute=minute)\n",
    "        datetimes.append(datetime_occured)\n",
    "\n",
    "    ml_df = remove_columns(ml_df, ['date_occ', 'time_occ'])\n",
    "    ml_df['year_occ'] = pd.Series([int(date.year) for date in datetimes], index=ml_df.index)\n",
    "    ml_df['month_occ'] = pd.Series([int(date.month) for date in datetimes], index=ml_df.index)\n",
    "    ml_df['weekday_occ'] = pd.Series([int(date.weekday()) for date in datetimes], index=ml_df.index)\n",
    "    ml_df['hour_occ'] = pd.Series([int(date.hour) for date in datetimes], index=ml_df.index)\n",
    "#     ml_df['minute_occ'] = pd.Series([int(date.minute) for date in datetimes], index=ml_df.index)\n",
    "    \n",
    "    return ml_df\n",
    "\n",
    "def format_rptd_datetime(ml_df):\n",
    "    date_rptd_index = list(ml_df.keys()).index('date_rptd')\n",
    "    datetimes = []\n",
    "    for row in ml_df.values:\n",
    "        date_reported = datetime.strptime(row[date_rptd_index], '%Y-%m-%dT%H:%M:%S.%f')\n",
    "        datetimes.append(date_reported)\n",
    "    \n",
    "    ml_df = remove_columns(ml_df, ['date_rptd'])\n",
    "    ml_df['year_rptd'] = pd.Series([int(date.year) for date in datetimes], index=ml_df.index)\n",
    "    ml_df['month_rptd'] = pd.Series([int(date.month) for date in datetimes], index=ml_df.index)\n",
    "    ml_df['day_rptd'] = pd.Series([int(date.day) for date in datetimes], index=ml_df.index)\n",
    "    return ml_df\n",
    "\n",
    "def convert_location_to_lat_long(ml_df):\n",
    "    locations = ml_df['location_1']\n",
    "    longs = []\n",
    "    lats = []\n",
    "    for location in locations:\n",
    "        location = location[7:len(location)-1]\n",
    "        long, lat = location.split(' ')\n",
    "        longs.append(float(long))\n",
    "        lats.append(float(lat))\n",
    "    \n",
    "    ml_df = remove_columns(ml_df, ['location_1'])\n",
    "    ml_df['location_long'] = pd.Series(longs, index=ml_df.index)\n",
    "    ml_df['location_lat'] = pd.Series(lats, index=ml_df.index)\n",
    "    return ml_df\n",
    " \n",
    "def select_year_occ(ml_df, year):\n",
    "    return ml_df.loc[ml_df['year_occ'] == year]\n",
    "\n",
    "def encode_labels(ml_df, column_titles):\n",
    "    return pd.get_dummies(ml_df, columns=column_titles)\n",
    "\n",
    "\n",
    "# Potentially useful: mocodes, premis_cd, weapon_used_cd, date_rptd, rpt_dist_no\n",
    "columns_remove = [\n",
    "    'area_name', 'crm_cd_1', 'crm_cd_2', 'crm_cd_3', 'crm_cd_4', 'crm_cd_desc', 'cross_street', 'dr_no', \n",
    "    'location', 'location_1_address', 'location_1_city', 'location_1_state', 'location_1_zip', 'mocodes', \n",
    "    'premis_cd', 'premis_desc', 'status', 'status_desc', 'weapon_desc', 'weapon_used_cd',\n",
    "    'date_rptd', 'rpt_dist_no'\n",
    "]\n",
    "\n",
    "ml_df = remove_columns(df, columns_remove)\n",
    "ml_df = remove_partial_rows(ml_df)\n",
    "ml_df = format_occ_datetime(ml_df)\n",
    "# ml_df = format_rptd_datetime(ml_df)\n",
    "ml_df = convert_location_to_lat_long(ml_df)\n",
    "\n",
    "ml_df = select_year_occ(ml_df, 2017)\n",
    "\n",
    "# Try encoding year\n",
    "# ml_df = encode_labels(ml_df, ['area_id', 'crm_cd', 'vict_descent', 'vict_sex', 'month_occ', 'weekday_occ'])\n",
    "\n",
    "\n",
    "# Supervised Neural Network\n",
    "crm_cds = ml_df['crm_cd'].tolist()\n",
    "# crm_cds = encode_labels(crm_cds, ['crm_cd'])\n",
    "\n",
    "ml_df = remove_columns(ml_df, ['crm_cd'])\n",
    "ml_df = encode_labels(ml_df, ['area_id', 'vict_descent', 'vict_sex', 'month_occ', 'weekday_occ'])"
   ]
  },
  {
   "cell_type": "code",
   "execution_count": 5,
   "metadata": {},
   "outputs": [
    {
     "name": "stdout",
     "output_type": "stream",
     "text": [
      "ml_df:\n",
      "67\n",
      "{dtype('float64'): Index(['vict_age', 'location_long', 'location_lat'], dtype='object'), dtype('int64'): Index(['year_occ', 'hour_occ'], dtype='object'), dtype('uint8'): Index(['area_id_1', 'area_id_2', 'area_id_3', 'area_id_4', 'area_id_5',\n",
      "       'area_id_6', 'area_id_7', 'area_id_8', 'area_id_9', 'area_id_10',\n",
      "       'area_id_11', 'area_id_12', 'area_id_13', 'area_id_14', 'area_id_15',\n",
      "       'area_id_16', 'area_id_17', 'area_id_18', 'area_id_19', 'area_id_20',\n",
      "       'area_id_21', 'vict_descent_A', 'vict_descent_B', 'vict_descent_C',\n",
      "       'vict_descent_D', 'vict_descent_F', 'vict_descent_G', 'vict_descent_H',\n",
      "       'vict_descent_I', 'vict_descent_J', 'vict_descent_K', 'vict_descent_O',\n",
      "       'vict_descent_P', 'vict_descent_S', 'vict_descent_U', 'vict_descent_V',\n",
      "       'vict_descent_W', 'vict_descent_X', 'vict_descent_Z', 'vict_sex_F',\n",
      "       'vict_sex_H', 'vict_sex_M', 'vict_sex_X', 'month_occ_1', 'month_occ_2',\n",
      "       'month_occ_3', 'month_occ_4', 'month_occ_5', 'month_occ_6',\n",
      "       'month_occ_7', 'month_occ_8', 'month_occ_9', 'month_occ_10',\n",
      "       'month_occ_11', 'month_occ_12', 'weekday_occ_0', 'weekday_occ_1',\n",
      "       'weekday_occ_2', 'weekday_occ_3', 'weekday_occ_4', 'weekday_occ_5',\n",
      "       'weekday_occ_6'],\n",
      "      dtype='object')}\n",
      "crm_cds\n"
     ]
    }
   ],
   "source": [
    "print('ml_df:')\n",
    "print(len(ml_df.keys()))\n",
    "print(ml_df.columns.to_series().groupby(ml_df.dtypes).groups)"
   ]
  },
  {
   "cell_type": "code",
   "execution_count": 36,
   "metadata": {},
   "outputs": [],
   "source": [
    "location_df = ml_df[['location_long', 'location_lat', 'crm_cd']]\n",
    "location_df = encode_labels(location_df, ['crm_cd'])"
   ]
  },
  {
   "cell_type": "markdown",
   "metadata": {},
   "source": [
    "## Machine Learning"
   ]
  },
  {
   "cell_type": "code",
   "execution_count": null,
   "metadata": {},
   "outputs": [],
   "source": [
    "k_means = cluster.KMeans(n_clusters=10)\n",
    "k_means.fit_predict(location_df) \n",
    "\n",
    "# print(k_means.labels_[::10])\n",
    "print(k_means.cluster_centers_)\n",
    "\n",
    "# print(y_iris[::10])"
   ]
  },
  {
   "cell_type": "code",
   "execution_count": null,
   "metadata": {},
   "outputs": [],
   "source": [
    "print(location_df.keys())\n",
    "print(k_means.cluster_centers_[3])"
   ]
  },
  {
   "cell_type": "code",
   "execution_count": null,
   "metadata": {},
   "outputs": [],
   "source": [
    "ward = cluster.AgglomerativeClustering(n_clusters=3)\n",
    "ward.fit_predict(location_df) "
   ]
  },
  {
   "cell_type": "markdown",
   "metadata": {},
   "source": [
    "### MLP Classifier"
   ]
  },
  {
   "cell_type": "code",
   "execution_count": 54,
   "metadata": {},
   "outputs": [
    {
     "data": {
      "text/plain": [
       "MLPClassifier(activation='relu', alpha=1e-05, batch_size='auto', beta_1=0.9,\n",
       "       beta_2=0.999, early_stopping=False, epsilon=1e-08,\n",
       "       hidden_layer_sizes=(5, 2), learning_rate='constant',\n",
       "       learning_rate_init=0.001, max_iter=200, momentum=0.9,\n",
       "       nesterovs_momentum=True, power_t=0.5, random_state=1, shuffle=True,\n",
       "       solver='lbfgs', tol=0.0001, validation_fraction=0.1, verbose=False,\n",
       "       warm_start=False)"
      ]
     },
     "execution_count": 54,
     "metadata": {},
     "output_type": "execute_result"
    }
   ],
   "source": [
    "from sklearn.neural_network import MLPClassifier\n",
    "\n",
    "X = ml_df.as_matrix()\n",
    "y = crm_cds\n",
    "\n",
    "clf = MLPClassifier(solver='lbfgs', alpha=1e-5,\n",
    "                    hidden_layer_sizes=(5, 2), random_state=1)\n",
    "clf.fit(X, y)"
   ]
  },
  {
   "cell_type": "code",
   "execution_count": 55,
   "metadata": {},
   "outputs": [
    {
     "data": {
      "text/plain": [
       "0.09939342287316594"
      ]
     },
     "execution_count": 55,
     "metadata": {},
     "output_type": "execute_result"
    }
   ],
   "source": [
    "# clf.predict(ml_df.loc[[]])\n",
    "clf.score(X, y)"
   ]
  },
  {
   "cell_type": "markdown",
   "metadata": {},
   "source": [
    "### Random Forest Classifier"
   ]
  },
  {
   "cell_type": "code",
   "execution_count": 6,
   "metadata": {},
   "outputs": [
    {
     "data": {
      "text/plain": [
       "RandomForestClassifier(bootstrap=True, class_weight=None, criterion='gini',\n",
       "            max_depth=None, max_features='auto', max_leaf_nodes=None,\n",
       "            min_impurity_decrease=0.0, min_impurity_split=None,\n",
       "            min_samples_leaf=1, min_samples_split=2,\n",
       "            min_weight_fraction_leaf=0.0, n_estimators=10, n_jobs=1,\n",
       "            oob_score=False, random_state=0, verbose=0, warm_start=False)"
      ]
     },
     "execution_count": 6,
     "metadata": {},
     "output_type": "execute_result"
    }
   ],
   "source": [
    "from sklearn.ensemble import RandomForestClassifier\n",
    "\n",
    "X = ml_df\n",
    "y = crm_cds\n",
    "\n",
    "clf_tree = RandomForestClassifier(random_state=0)\n",
    "clf_tree.fit(X, y)"
   ]
  },
  {
   "cell_type": "code",
   "execution_count": 7,
   "metadata": {},
   "outputs": [
    {
     "data": {
      "text/plain": [
       "0.9874858032221427"
      ]
     },
     "execution_count": 7,
     "metadata": {},
     "output_type": "execute_result"
    }
   ],
   "source": [
    "clf_tree.score(X, y)"
   ]
  },
  {
   "cell_type": "code",
   "execution_count": 18,
   "metadata": {},
   "outputs": [
    {
     "name": "stdout",
     "output_type": "stream",
     "text": [
      "[626, 624, 236, 624, 930, 626, 230, 930, 930, 230]\n"
     ]
    },
    {
     "data": {
      "text/plain": [
       "array([626, 624, 236, 624, 930, 626, 230, 930, 930, 230])"
      ]
     },
     "execution_count": 18,
     "metadata": {},
     "output_type": "execute_result"
    }
   ],
   "source": [
    "print(y[0:10])\n",
    "clf_tree.predict(X[0:10])"
   ]
  },
  {
   "cell_type": "code",
   "execution_count": 8,
   "metadata": {},
   "outputs": [
    {
     "data": {
      "text/plain": [
       "(<1x2154026 sparse matrix of type '<class 'numpy.int64'>'\n",
       " \twith 254 stored elements in Compressed Sparse Row format>,\n",
       " array([      0,  216259,  431470,  646927,  862648, 1077705, 1292906,\n",
       "        1507527, 1722908, 1938633, 2154026]))"
      ]
     },
     "execution_count": 8,
     "metadata": {},
     "output_type": "execute_result"
    }
   ],
   "source": [
    "clf_tree.decision_path(X.iloc[[1]])"
   ]
  },
  {
   "cell_type": "code",
   "execution_count": 4,
   "metadata": {},
   "outputs": [
    {
     "ename": "NameError",
     "evalue": "name 'clf_tree' is not defined",
     "output_type": "error",
     "traceback": [
      "\u001b[0;31m---------------------------------------------------------------------------\u001b[0m",
      "\u001b[0;31mNameError\u001b[0m                                 Traceback (most recent call last)",
      "\u001b[0;32m<ipython-input-4-0aee1affb9f0>\u001b[0m in \u001b[0;36m<module>\u001b[0;34m()\u001b[0m\n\u001b[0;32m----> 1\u001b[0;31m \u001b[0mprint\u001b[0m\u001b[0;34m(\u001b[0m\u001b[0mclf_tree\u001b[0m\u001b[0;34m.\u001b[0m\u001b[0mestimators_\u001b[0m\u001b[0;34m[\u001b[0m\u001b[0;36m0\u001b[0m\u001b[0;34m]\u001b[0m\u001b[0;34m)\u001b[0m\u001b[0;34m\u001b[0m\u001b[0m\n\u001b[0m",
      "\u001b[0;31mNameError\u001b[0m: name 'clf_tree' is not defined"
     ]
    }
   ],
   "source": [
    "print(clf_tree.estimators_[0])"
   ]
  },
  {
   "cell_type": "code",
   "execution_count": null,
   "metadata": {},
   "outputs": [],
   "source": []
  }
 ],
 "metadata": {
  "kernelspec": {
   "display_name": "Python 3",
   "language": "python",
   "name": "python3"
  },
  "language_info": {
   "codemirror_mode": {
    "name": "ipython",
    "version": 3
   },
   "file_extension": ".py",
   "mimetype": "text/x-python",
   "name": "python",
   "nbconvert_exporter": "python",
   "pygments_lexer": "ipython3",
   "version": "3.5.2"
  }
 },
 "nbformat": 4,
 "nbformat_minor": 2
}
