{
 "cells": [
  {
   "cell_type": "markdown",
   "metadata": {},
   "source": [
    "# SciKit-Learn Machine Learning"
   ]
  },
  {
   "cell_type": "code",
   "execution_count": 1,
   "metadata": {},
   "outputs": [],
   "source": [
    "import pandas as pd\n",
    "# import matplotlib.pyplot as plt\n",
    "from datetime import datetime, date, time\n",
    "# from collections import OrderedDict\n",
    "from sklearn import cluster, datasets, preprocessing\n",
    "# from sklearn.cluster import AgglomerativeClustering\n",
    "\n",
    "\n",
    "from lapd_codes.crime_codes import crime_codes\n",
    "from lapd_codes.mo_codes import mo_codes"
   ]
  },
  {
   "cell_type": "code",
   "execution_count": 33,
   "metadata": {},
   "outputs": [],
   "source": [
    "max_rows = 2000000\n",
    "# max_rows = 10\n",
    "url = 'https://data.lacity.org/resource/7fvc-faax.csv?$limit=' + str(max_rows)\n",
    "df = pd.read_csv(url)"
   ]
  },
  {
   "cell_type": "code",
   "execution_count": 3,
   "metadata": {},
   "outputs": [
    {
     "name": "stdout",
     "output_type": "stream",
     "text": [
      "Index(['area_id', 'area_name', 'crm_cd', 'crm_cd_1', 'crm_cd_2', 'crm_cd_3',\n",
      "       'crm_cd_4', 'crm_cd_desc', 'cross_street', 'date_occ', 'date_rptd',\n",
      "       'dr_no', 'location', 'location_1', 'location_1_address',\n",
      "       'location_1_city', 'location_1_state', 'location_1_zip', 'mocodes',\n",
      "       'premis_cd', 'premis_desc', 'rpt_dist_no', 'status', 'status_desc',\n",
      "       'time_occ', 'vict_age', 'vict_descent', 'vict_sex', 'weapon_desc',\n",
      "       'weapon_used_cd'],\n",
      "      dtype='object')\n"
     ]
    }
   ],
   "source": [
    "print(df.keys())"
   ]
  },
  {
   "cell_type": "code",
   "execution_count": 4,
   "metadata": {},
   "outputs": [
    {
     "name": "stdout",
     "output_type": "stream",
     "text": [
      "0    POINT (-118.2459 34.0401)\n",
      "1    POINT (-118.2655 34.0599)\n",
      "2    POINT (-118.3742 34.0375)\n",
      "3    POINT (-118.3555 34.0761)\n",
      "4    POINT (-118.3451 34.0649)\n",
      "5    POINT (-118.3614 34.0761)\n",
      "6     POINT (-118.3765 34.073)\n",
      "7    POINT (-118.3219 34.0516)\n",
      "8    POINT (-118.3353 34.0399)\n",
      "9    POINT (-118.3353 34.0399)\n",
      "Name: location_1, dtype: object\n"
     ]
    }
   ],
   "source": [
    "print(df['location_1'])"
   ]
  },
  {
   "cell_type": "code",
   "execution_count": 35,
   "metadata": {
    "scrolled": false
   },
   "outputs": [
    {
     "ename": "MemoryError",
     "evalue": "",
     "output_type": "error",
     "traceback": [
      "\u001b[0;31m---------------------------------------------------------------------------\u001b[0m",
      "\u001b[0;31mMemoryError\u001b[0m                               Traceback (most recent call last)",
      "\u001b[0;32m<ipython-input-35-7846e6f33e53>\u001b[0m in \u001b[0;36m<module>\u001b[0;34m()\u001b[0m\n\u001b[1;32m     90\u001b[0m \u001b[0;31m# print(ml_df)\u001b[0m\u001b[0;34m\u001b[0m\u001b[0;34m\u001b[0m\u001b[0m\n\u001b[1;32m     91\u001b[0m \u001b[0;34m\u001b[0m\u001b[0m\n\u001b[0;32m---> 92\u001b[0;31m \u001b[0mml_df\u001b[0m \u001b[0;34m=\u001b[0m \u001b[0mencode_labels\u001b[0m\u001b[0;34m(\u001b[0m\u001b[0mml_df\u001b[0m\u001b[0;34m,\u001b[0m \u001b[0;34m[\u001b[0m\u001b[0;34m'area_id'\u001b[0m\u001b[0;34m,\u001b[0m \u001b[0;34m'crm_cd'\u001b[0m\u001b[0;34m,\u001b[0m \u001b[0;34m'rpt_dist_no'\u001b[0m\u001b[0;34m,\u001b[0m \u001b[0;34m'vict_descent'\u001b[0m\u001b[0;34m,\u001b[0m \u001b[0;34m'vict_sex'\u001b[0m\u001b[0;34m,\u001b[0m \u001b[0;34m'month_occ'\u001b[0m\u001b[0;34m,\u001b[0m \u001b[0;34m'weekday_occ'\u001b[0m\u001b[0;34m]\u001b[0m\u001b[0;34m)\u001b[0m\u001b[0;34m\u001b[0m\u001b[0m\n\u001b[0m\u001b[1;32m     93\u001b[0m \u001b[0;34m\u001b[0m\u001b[0m\n\u001b[1;32m     94\u001b[0m \u001b[0;31m# ml_array = ml_df.values\u001b[0m\u001b[0;34m\u001b[0m\u001b[0;34m\u001b[0m\u001b[0m\n",
      "\u001b[0;32m<ipython-input-35-7846e6f33e53>\u001b[0m in \u001b[0;36mencode_labels\u001b[0;34m(ml_df, column_titles)\u001b[0m\n\u001b[1;32m     76\u001b[0m \u001b[0;34m\u001b[0m\u001b[0m\n\u001b[1;32m     77\u001b[0m \u001b[0;32mdef\u001b[0m \u001b[0mencode_labels\u001b[0m\u001b[0;34m(\u001b[0m\u001b[0mml_df\u001b[0m\u001b[0;34m,\u001b[0m \u001b[0mcolumn_titles\u001b[0m\u001b[0;34m)\u001b[0m\u001b[0;34m:\u001b[0m\u001b[0;34m\u001b[0m\u001b[0m\n\u001b[0;32m---> 78\u001b[0;31m     \u001b[0;32mreturn\u001b[0m \u001b[0mpd\u001b[0m\u001b[0;34m.\u001b[0m\u001b[0mget_dummies\u001b[0m\u001b[0;34m(\u001b[0m\u001b[0mml_df\u001b[0m\u001b[0;34m,\u001b[0m \u001b[0mcolumns\u001b[0m\u001b[0;34m=\u001b[0m\u001b[0mcolumn_titles\u001b[0m\u001b[0;34m)\u001b[0m\u001b[0;34m\u001b[0m\u001b[0m\n\u001b[0m\u001b[1;32m     79\u001b[0m \u001b[0;34m\u001b[0m\u001b[0m\n\u001b[1;32m     80\u001b[0m \u001b[0;34m\u001b[0m\u001b[0m\n",
      "\u001b[0;32m~/Documents/Github/defogger/venv/lib/python3.5/site-packages/pandas/core/reshape/reshape.py\u001b[0m in \u001b[0;36mget_dummies\u001b[0;34m(data, prefix, prefix_sep, dummy_na, columns, sparse, drop_first)\u001b[0m\n\u001b[1;32m   1208\u001b[0m             dummy = _get_dummies_1d(data[col], prefix=pre, prefix_sep=sep,\n\u001b[1;32m   1209\u001b[0m                                     \u001b[0mdummy_na\u001b[0m\u001b[0;34m=\u001b[0m\u001b[0mdummy_na\u001b[0m\u001b[0;34m,\u001b[0m \u001b[0msparse\u001b[0m\u001b[0;34m=\u001b[0m\u001b[0msparse\u001b[0m\u001b[0;34m,\u001b[0m\u001b[0;34m\u001b[0m\u001b[0m\n\u001b[0;32m-> 1210\u001b[0;31m                                     drop_first=drop_first)\n\u001b[0m\u001b[1;32m   1211\u001b[0m             \u001b[0mwith_dummies\u001b[0m\u001b[0;34m.\u001b[0m\u001b[0mappend\u001b[0m\u001b[0;34m(\u001b[0m\u001b[0mdummy\u001b[0m\u001b[0;34m)\u001b[0m\u001b[0;34m\u001b[0m\u001b[0m\n\u001b[1;32m   1212\u001b[0m         \u001b[0mresult\u001b[0m \u001b[0;34m=\u001b[0m \u001b[0mconcat\u001b[0m\u001b[0;34m(\u001b[0m\u001b[0mwith_dummies\u001b[0m\u001b[0;34m,\u001b[0m \u001b[0maxis\u001b[0m\u001b[0;34m=\u001b[0m\u001b[0;36m1\u001b[0m\u001b[0;34m)\u001b[0m\u001b[0;34m\u001b[0m\u001b[0m\n",
      "\u001b[0;32m~/Documents/Github/defogger/venv/lib/python3.5/site-packages/pandas/core/reshape/reshape.py\u001b[0m in \u001b[0;36m_get_dummies_1d\u001b[0;34m(data, prefix, prefix_sep, dummy_na, sparse, drop_first)\u001b[0m\n\u001b[1;32m   1287\u001b[0m \u001b[0;34m\u001b[0m\u001b[0m\n\u001b[1;32m   1288\u001b[0m     \u001b[0;32melse\u001b[0m\u001b[0;34m:\u001b[0m\u001b[0;34m\u001b[0m\u001b[0m\n\u001b[0;32m-> 1289\u001b[0;31m         \u001b[0mdummy_mat\u001b[0m \u001b[0;34m=\u001b[0m \u001b[0mnp\u001b[0m\u001b[0;34m.\u001b[0m\u001b[0meye\u001b[0m\u001b[0;34m(\u001b[0m\u001b[0mnumber_of_cols\u001b[0m\u001b[0;34m,\u001b[0m \u001b[0mdtype\u001b[0m\u001b[0;34m=\u001b[0m\u001b[0mnp\u001b[0m\u001b[0;34m.\u001b[0m\u001b[0muint8\u001b[0m\u001b[0;34m)\u001b[0m\u001b[0;34m.\u001b[0m\u001b[0mtake\u001b[0m\u001b[0;34m(\u001b[0m\u001b[0mcodes\u001b[0m\u001b[0;34m,\u001b[0m \u001b[0maxis\u001b[0m\u001b[0;34m=\u001b[0m\u001b[0;36m0\u001b[0m\u001b[0;34m)\u001b[0m\u001b[0;34m\u001b[0m\u001b[0m\n\u001b[0m\u001b[1;32m   1290\u001b[0m \u001b[0;34m\u001b[0m\u001b[0m\n\u001b[1;32m   1291\u001b[0m         \u001b[0;32mif\u001b[0m \u001b[0;32mnot\u001b[0m \u001b[0mdummy_na\u001b[0m\u001b[0;34m:\u001b[0m\u001b[0;34m\u001b[0m\u001b[0m\n",
      "\u001b[0;31mMemoryError\u001b[0m: "
     ]
    }
   ],
   "source": [
    "def remove_columns(ml_df, columns):\n",
    "    # Potentially useful: mocodes, premis_cd, weapon_used_cd\n",
    "    for column in columns:\n",
    "        ml_df = ml_df.drop(column, 1)\n",
    "    return ml_df  \n",
    "\n",
    "def remove_partial_rows(ml_df):\n",
    "    null_indicies  = ml_df.index[ml_df.isnull().any(axis=1)].tolist()\n",
    "    return ml_df.drop(null_indicies)\n",
    "        \n",
    "def format_occ_datetime(ml_df):\n",
    "    date_occ_index = list(ml_df.keys()).index('date_occ')\n",
    "    time_occ_index = list(ml_df.keys()).index('time_occ')\n",
    "    datetimes = []\n",
    "    for row in ml_df.values:\n",
    "        date_occured = datetime.strptime(row[date_occ_index], '%Y-%m-%dT%H:%M:%S.%f')\n",
    "        time_occured = str(row[time_occ_index])\n",
    "\n",
    "        if len(time_occured) == 4:\n",
    "            hour = int(time_occured[0:2])\n",
    "            minute = int(time_occured[2:len(time_occured)])\n",
    "        elif len(time_occured) == 3:\n",
    "            hour = int(time_occured[0])\n",
    "            minute = int(time_occured[1:len(time_occured)])\n",
    "        else:\n",
    "            hour = 0\n",
    "            minute = int(time_occured[0:len(time_occured)])\n",
    "\n",
    "        datetime_occured  = date_occured.replace(hour=hour, minute=minute)\n",
    "        datetimes.append(datetime_occured)\n",
    "\n",
    "    ml_df = remove_columns(ml_df, ['date_occ', 'time_occ'])\n",
    "    ml_df['year_occ'] = pd.Series([int(date.year) for date in datetimes], index=ml_df.index)\n",
    "    ml_df['month_occ'] = pd.Series([int(date.month) for date in datetimes], index=ml_df.index)\n",
    "    ml_df['weekday_occ'] = pd.Series([int(date.weekday()) for date in datetimes], index=ml_df.index)\n",
    "    ml_df['hour_occ'] = pd.Series([int(date.hour) for date in datetimes], index=ml_df.index)\n",
    "#     ml_df['minute_occ'] = pd.Series([int(date.minute) for date in datetimes], index=ml_df.index)\n",
    "    \n",
    "    return ml_df\n",
    "\n",
    "def format_rptd_datetime(ml_df):\n",
    "    date_rptd_index = list(ml_df.keys()).index('date_rptd')\n",
    "    datetimes = []\n",
    "    for row in ml_df.values:\n",
    "        date_reported = datetime.strptime(row[date_rptd_index], '%Y-%m-%dT%H:%M:%S.%f')\n",
    "        datetimes.append(date_reported)\n",
    "    \n",
    "    ml_df = remove_columns(ml_df, ['date_rptd'])\n",
    "    ml_df['year_rptd'] = pd.Series([int(date.year) for date in datetimes], index=ml_df.index)\n",
    "    ml_df['month_rptd'] = pd.Series([int(date.month) for date in datetimes], index=ml_df.index)\n",
    "    ml_df['day_rptd'] = pd.Series([int(date.day) for date in datetimes], index=ml_df.index)\n",
    "    return ml_df\n",
    "\n",
    "# def convert_column_to_int(ml_df, column_title, mapping):\n",
    "#     column = ml_df[column_title]\n",
    "#     column = [mapping[element] for element in column]\n",
    "    \n",
    "#     ml_df = ml_df.drop(column_title, 1)\n",
    "#     ml_df[column_title] = pd.Series(column, index=ml_df.index)\n",
    "#     return ml_df\n",
    "\n",
    "def convert_location_to_lat_long(ml_df):\n",
    "    locations = ml_df['location_1']\n",
    "    longs = []\n",
    "    lats = []\n",
    "    for location in locations:\n",
    "        location = location[7:len(location)-1]\n",
    "        long, lat = location.split(' ')\n",
    "        longs.append(float(long))\n",
    "        lats.append(float(lat))\n",
    "    \n",
    "    ml_df = remove_columns(ml_df, ['location_1'])\n",
    "    ml_df['location_long'] = pd.Series(longs, index=ml_df.index)\n",
    "    ml_df['location_lat'] = pd.Series(lats, index=ml_df.index)\n",
    "    return ml_df\n",
    "\n",
    "def encode_labels(ml_df, column_titles):\n",
    "    return pd.get_dummies(ml_df, columns=column_titles)\n",
    "\n",
    "\n",
    "columns_remove = ['area_name', 'crm_cd_1', 'crm_cd_2', 'crm_cd_3', 'crm_cd_4', 'crm_cd_desc', 'cross_street', 'dr_no', 'location', 'location_1_address', 'location_1_city', 'location_1_state', 'location_1_zip', 'mocodes', 'premis_cd', 'premis_desc', 'status', 'status_desc', 'weapon_desc', 'weapon_used_cd']\n",
    "columns_remove.append('date_rptd')\n",
    "\n",
    "ml_df = remove_columns(df, columns_remove)\n",
    "ml_df = remove_partial_rows(ml_df)\n",
    "ml_df = format_occ_datetime(ml_df)\n",
    "# ml_df = format_rptd_datetime(ml_df)\n",
    "ml_df = convert_location_to_lat_long(ml_df)\n",
    "\n",
    "# print(ml_df)\n",
    "\n",
    "ml_df = encode_labels(ml_df, ['area_id', 'crm_cd', 'rpt_dist_no', 'vict_descent', 'vict_sex', 'month_occ', 'weekday_occ'])\n",
    "\n",
    "# ml_array = ml_df.values\n",
    "# print(ml_df.keys())\n",
    "# print(ml_array)"
   ]
  },
  {
   "cell_type": "code",
   "execution_count": 30,
   "metadata": {},
   "outputs": [
    {
     "data": {
      "text/plain": [
       "Index(['vict_age', 'year_occ', 'hour_occ', 'location_long', 'location_lat',\n",
       "       'area_id_1', 'area_id_2', 'area_id_7', 'crm_cd_236', 'crm_cd_626',\n",
       "       'crm_cd_810', 'crm_cd_821', 'crm_cd_930', 'rpt_dist_no_157',\n",
       "       'rpt_dist_no_248', 'rpt_dist_no_721', 'rpt_dist_no_724',\n",
       "       'rpt_dist_no_735', 'rpt_dist_no_759', 'rpt_dist_no_782',\n",
       "       'rpt_dist_no_787', 'vict_descent_B', 'vict_descent_H', 'vict_descent_K',\n",
       "       'vict_descent_O', 'vict_sex_F', 'vict_sex_M', 'month_occ_3',\n",
       "       'month_occ_4', 'month_occ_11', 'weekday_occ_0', 'weekday_occ_1',\n",
       "       'weekday_occ_4', 'weekday_occ_5'],\n",
       "      dtype='object')"
      ]
     },
     "execution_count": 30,
     "metadata": {},
     "output_type": "execute_result"
    }
   ],
   "source": [
    "ml_df.keys()"
   ]
  },
  {
   "cell_type": "markdown",
   "metadata": {},
   "source": [
    "## Machine Learning"
   ]
  },
  {
   "cell_type": "code",
   "execution_count": null,
   "metadata": {},
   "outputs": [],
   "source": [
    "k_means = cluster.KMeans(n_clusters=3)\n",
    "k_means.fit_predict(ml_df) \n",
    "\n",
    "print(k_means.labels_[::10])\n",
    "print(k_means.cluster_centers_)\n",
    "\n",
    "# print(y_iris[::10])"
   ]
  },
  {
   "cell_type": "code",
   "execution_count": 28,
   "metadata": {},
   "outputs": [
    {
     "data": {
      "text/plain": [
       "{dtype('uint8'): Index(['area_id_1', 'area_id_2', 'area_id_7', 'crm_cd_236', 'crm_cd_626',\n",
       "        'crm_cd_810', 'crm_cd_821', 'crm_cd_930', 'rpt_dist_no_157',\n",
       "        'rpt_dist_no_248', 'rpt_dist_no_721', 'rpt_dist_no_724',\n",
       "        'rpt_dist_no_735', 'rpt_dist_no_759', 'rpt_dist_no_782',\n",
       "        'rpt_dist_no_787', 'vict_descent_B', 'vict_descent_H', 'vict_descent_K',\n",
       "        'vict_descent_O', 'vict_sex_F', 'vict_sex_M', 'month_occ_3',\n",
       "        'month_occ_4', 'month_occ_11', 'weekday_occ_0', 'weekday_occ_1',\n",
       "        'weekday_occ_4', 'weekday_occ_5'],\n",
       "       dtype='object'),\n",
       " dtype('int64'): Index(['year_occ', 'hour_occ'], dtype='object'),\n",
       " dtype('float64'): Index(['vict_age', 'location_long', 'location_lat'], dtype='object')}"
      ]
     },
     "execution_count": 28,
     "metadata": {},
     "output_type": "execute_result"
    }
   ],
   "source": [
    "ml_df.columns.to_series().groupby(ml_df.dtypes).groups"
   ]
  },
  {
   "cell_type": "code",
   "execution_count": 29,
   "metadata": {},
   "outputs": [
    {
     "data": {
      "text/plain": [
       "array([2, 1, 0, 0, 1, 2, 2, 0, 0])"
      ]
     },
     "execution_count": 29,
     "metadata": {},
     "output_type": "execute_result"
    }
   ],
   "source": [
    "ward = cluster.AgglomerativeClustering(n_clusters=3)\n",
    "ward.fit_predict(ml_df) "
   ]
  },
  {
   "cell_type": "code",
   "execution_count": null,
   "metadata": {},
   "outputs": [],
   "source": []
  }
 ],
 "metadata": {
  "kernelspec": {
   "display_name": "Python 3",
   "language": "python",
   "name": "python3"
  },
  "language_info": {
   "codemirror_mode": {
    "name": "ipython",
    "version": 3
   },
   "file_extension": ".py",
   "mimetype": "text/x-python",
   "name": "python",
   "nbconvert_exporter": "python",
   "pygments_lexer": "ipython3",
   "version": "3.5.2"
  }
 },
 "nbformat": 4,
 "nbformat_minor": 2
}
