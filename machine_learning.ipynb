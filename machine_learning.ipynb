{
 "cells": [
  {
   "cell_type": "markdown",
   "metadata": {},
   "source": [
    "# SciKit-Learn Machine Learning"
   ]
  },
  {
   "cell_type": "code",
   "execution_count": 1,
   "metadata": {},
   "outputs": [],
   "source": [
    "import pandas as pd\n",
    "# import matplotlib.pyplot as plt\n",
    "from datetime import datetime, date, time\n",
    "# from collections import OrderedDict\n",
    "from sklearn import cluster, datasets, preprocessing\n",
    "# from sklearn.cluster import AgglomerativeClustering\n",
    "\n",
    "\n",
    "from lapd_codes.crime_codes import crime_codes\n",
    "from lapd_codes.mo_codes import mo_codes"
   ]
  },
  {
   "cell_type": "code",
   "execution_count": 2,
   "metadata": {},
   "outputs": [],
   "source": [
    "# max_rows = 2000000\n",
    "max_rows = 10\n",
    "url = 'https://data.lacity.org/resource/7fvc-faax.csv?$limit=' + str(max_rows)\n",
    "df = pd.read_csv(url)"
   ]
  },
  {
   "cell_type": "code",
   "execution_count": 3,
   "metadata": {},
   "outputs": [
    {
     "name": "stdout",
     "output_type": "stream",
     "text": [
      "Index(['area_id', 'area_name', 'crm_cd', 'crm_cd_1', 'crm_cd_2', 'crm_cd_3',\n",
      "       'crm_cd_4', 'crm_cd_desc', 'cross_street', 'date_occ', 'date_rptd',\n",
      "       'dr_no', 'location', 'location_1', 'location_1_address',\n",
      "       'location_1_city', 'location_1_state', 'location_1_zip', 'mocodes',\n",
      "       'premis_cd', 'premis_desc', 'rpt_dist_no', 'status', 'status_desc',\n",
      "       'time_occ', 'vict_age', 'vict_descent', 'vict_sex', 'weapon_desc',\n",
      "       'weapon_used_cd'],\n",
      "      dtype='object')\n"
     ]
    }
   ],
   "source": [
    "print(df.keys())"
   ]
  },
  {
   "cell_type": "code",
   "execution_count": 4,
   "metadata": {},
   "outputs": [
    {
     "name": "stdout",
     "output_type": "stream",
     "text": [
      "0    POINT (-118.2459 34.0401)\n",
      "1    POINT (-118.2655 34.0599)\n",
      "2    POINT (-118.3742 34.0375)\n",
      "3    POINT (-118.3555 34.0761)\n",
      "4    POINT (-118.3451 34.0649)\n",
      "5    POINT (-118.3614 34.0761)\n",
      "6     POINT (-118.3765 34.073)\n",
      "7    POINT (-118.3219 34.0516)\n",
      "8    POINT (-118.3353 34.0399)\n",
      "9    POINT (-118.3353 34.0399)\n",
      "Name: location_1, dtype: object\n"
     ]
    }
   ],
   "source": [
    "print(df['location_1'])"
   ]
  },
  {
   "cell_type": "code",
   "execution_count": 10,
   "metadata": {
    "scrolled": false
   },
   "outputs": [
    {
     "name": "stdout",
     "output_type": "stream",
     "text": [
      "   area_id           crm_cd               rpt_dist_no  vict_age  vict_descent  \\\n",
      "0        1  [0, 0, 0, 1, 0]  [1, 0, 0, 0, 0, 0, 0, 0]      30.0  [0, 1, 0, 0]   \n",
      "1        2  [0, 0, 1, 0, 0]  [0, 1, 0, 0, 0, 0, 0, 0]      11.0  [0, 1, 0, 0]   \n",
      "2        7  [0, 1, 0, 0, 0]  [0, 0, 0, 0, 0, 0, 1, 0]      49.0  [0, 1, 0, 0]   \n",
      "3        7  [0, 0, 0, 0, 1]  [0, 0, 0, 1, 0, 0, 0, 0]      41.0  [1, 0, 0, 0]   \n",
      "4        7  [0, 1, 0, 0, 0]  [0, 0, 0, 0, 1, 0, 0, 0]      27.0  [0, 0, 0, 1]   \n",
      "6        7  [0, 0, 0, 0, 1]  [0, 0, 1, 0, 0, 0, 0, 0]      20.0  [0, 1, 0, 0]   \n",
      "7        7  [0, 1, 0, 0, 0]  [0, 0, 0, 0, 0, 1, 0, 0]      35.0  [0, 0, 0, 1]   \n",
      "8        7  [1, 0, 0, 0, 0]  [0, 0, 0, 0, 0, 0, 0, 1]      43.0  [0, 0, 1, 0]   \n",
      "9        7  [1, 0, 0, 0, 0]  [0, 0, 0, 0, 0, 0, 0, 1]      44.0  [0, 1, 0, 0]   \n",
      "\n",
      "  vict_sex  year_occ  month_occ  day_occ  hour_occ  minute_occ  year_rptd  \\\n",
      "0      [1]      2010         11       15        20          45       2010   \n",
      "1      [0]      2010          3        1         0           1       2010   \n",
      "2      [0]      2010         11       15         0          30       2010   \n",
      "3      [1]      2010          3       12        10          50       2010   \n",
      "4      [0]      2010          3       13         6           0       2010   \n",
      "6      [0]      2010          3       23        23          50       2010   \n",
      "7      [1]      2010          3       23        23          30       2010   \n",
      "8      [0]      2010          4        5        20           0       2010   \n",
      "9      [1]      2010          4        5        20           0       2010   \n",
      "\n",
      "   month_rptd  day_rptd  location_long  location_lat  \n",
      "0          11        16      -118.2459       34.0401  \n",
      "1           5        19      -118.2655       34.0599  \n",
      "2          11        15      -118.3742       34.0375  \n",
      "3           3        12      -118.3555       34.0761  \n",
      "4           3        13      -118.3451       34.0649  \n",
      "6           3        24      -118.3765       34.0730  \n",
      "7           3        24      -118.3219       34.0516  \n",
      "8           4         5      -118.3353       34.0399  \n",
      "9           4         5      -118.3353       34.0399  \n"
     ]
    }
   ],
   "source": [
    "def remove_columns(ml_df, columns):\n",
    "    # Potentially useful: mocodes, premis_cd, weapon_used_cd\n",
    "    for column in columns:\n",
    "        ml_df = ml_df.drop(column, 1)\n",
    "    return ml_df  \n",
    "\n",
    "def remove_partial_rows(ml_df):\n",
    "    null_indicies  = ml_df.index[ml_df.isnull().any(axis=1)].tolist()\n",
    "    return ml_df.drop(null_indicies)\n",
    "        \n",
    "def format_occ_datetime(ml_df):\n",
    "    date_occ_index = list(ml_df.keys()).index('date_occ')\n",
    "    time_occ_index = list(ml_df.keys()).index('time_occ')\n",
    "    datetimes = []\n",
    "    for row in ml_df.values:\n",
    "        date_occured = datetime.strptime(row[date_occ_index], '%Y-%m-%dT%H:%M:%S.%f')\n",
    "        time_occured = str(row[time_occ_index])\n",
    "\n",
    "        if len(time_occured) == 4:\n",
    "            hour = int(time_occured[0:2])\n",
    "            minute = int(time_occured[2:len(time_occured)])\n",
    "        elif len(time_occured) == 3:\n",
    "            hour = int(time_occured[0])\n",
    "            minute = int(time_occured[1:len(time_occured)])\n",
    "        else:\n",
    "            hour = 0\n",
    "            minute = int(time_occured[0:len(time_occured)])\n",
    "\n",
    "        datetime_occured  = date_occured.replace(hour=hour, minute=minute)\n",
    "        datetimes.append(datetime_occured)\n",
    "\n",
    "    ml_df = remove_columns(ml_df, ['date_occ', 'time_occ'])\n",
    "    ml_df['year_occ'] = pd.Series([int(date.year) for date in datetimes], index=ml_df.index)\n",
    "    ml_df['month_occ'] = pd.Series([int(date.month) for date in datetimes], index=ml_df.index)\n",
    "    ml_df['day_occ'] = pd.Series([int(date.day) for date in datetimes], index=ml_df.index)\n",
    "    ml_df['hour_occ'] = pd.Series([int(date.hour) for date in datetimes], index=ml_df.index)\n",
    "    ml_df['minute_occ'] = pd.Series([int(date.minute) for date in datetimes], index=ml_df.index)\n",
    "    \n",
    "    return ml_df\n",
    "\n",
    "def format_rptd_datetime(ml_df):\n",
    "    date_rptd_index = list(ml_df.keys()).index('date_rptd')\n",
    "    datetimes = []\n",
    "    for row in ml_df.values:\n",
    "        date_reported = datetime.strptime(row[date_rptd_index], '%Y-%m-%dT%H:%M:%S.%f')\n",
    "        datetimes.append(date_reported)\n",
    "    \n",
    "    ml_df = remove_columns(ml_df, ['date_rptd'])\n",
    "    ml_df['year_rptd'] = pd.Series([int(date.year) for date in datetimes], index=ml_df.index)\n",
    "    ml_df['month_rptd'] = pd.Series([int(date.month) for date in datetimes], index=ml_df.index)\n",
    "    ml_df['day_rptd'] = pd.Series([int(date.day) for date in datetimes], index=ml_df.index)\n",
    "    return ml_df\n",
    "\n",
    "# def convert_column_to_int(ml_df, column_title, mapping):\n",
    "#     column = ml_df[column_title]\n",
    "#     column = [mapping[element] for element in column]\n",
    "    \n",
    "#     ml_df = ml_df.drop(column_title, 1)\n",
    "#     ml_df[column_title] = pd.Series(column, index=ml_df.index)\n",
    "#     return ml_df\n",
    "\n",
    "def convert_location_to_lat_long(ml_df):\n",
    "    locations = ml_df['location_1']\n",
    "    longs = []\n",
    "    lats = []\n",
    "    for location in locations:\n",
    "        location = location[7:len(location)-1]\n",
    "        long, lat = location.split(' ')\n",
    "        longs.append(float(long))\n",
    "        lats.append(float(lat))\n",
    "    \n",
    "    ml_df = remove_columns(ml_df, ['location_1'])\n",
    "    ml_df['location_long'] = pd.Series(longs, index=ml_df.index)\n",
    "    ml_df['location_lat'] = pd.Series(lats, index=ml_df.index)\n",
    "    return ml_df\n",
    "\n",
    "def encode_labels(ml_df, column_titles):\n",
    "    for column_title in column_titles:\n",
    "        lb = preprocessing.LabelBinarizer()\n",
    "        ml_df[column_title] = lb.fit_transform(ml_df[column_title]).tolist()\n",
    "    return ml_df\n",
    "\n",
    "\n",
    "columns_remove = ['area_name', 'crm_cd_1', 'crm_cd_2', 'crm_cd_3', 'crm_cd_4', 'crm_cd_desc', 'cross_street', 'dr_no', 'location', 'location_1_address', 'location_1_city', 'location_1_state', 'location_1_zip', 'mocodes', 'premis_cd', 'premis_desc', 'status', 'status_desc', 'weapon_desc', 'weapon_used_cd']\n",
    "\n",
    "ml_df = remove_columns(df, columns_remove)\n",
    "ml_df = remove_partial_rows(ml_df)\n",
    "ml_df = format_occ_datetime(ml_df)\n",
    "ml_df = format_rptd_datetime(ml_df)\n",
    "ml_df = convert_location_to_lat_long(ml_df)\n",
    "\n",
    "encode_labels(ml_df, ['vict_sex', 'vict_descent', 'crm_cd', 'rpt_dist_no'])\n",
    "# sex_mapping = {'F':0, 'M':1,}\n",
    "# ml_df = convert_column_to_int(ml_df, 'vict_sex', sex_mapping)\n",
    "# descent_mapping = {'H':0, 'B':1, 'O':2, 'K':3}\n",
    "# ml_df = convert_column_to_int(ml_df, 'vict_descent', descent_mapping)\n",
    "\n",
    "\n",
    "ml_array = ml_df.values\n",
    "print(ml_df)\n",
    "# print(ml_array)"
   ]
  },
  {
   "cell_type": "markdown",
   "metadata": {},
   "source": [
    "## Machine Learning"
   ]
  },
  {
   "cell_type": "code",
   "execution_count": 6,
   "metadata": {},
   "outputs": [
    {
     "ename": "ValueError",
     "evalue": "setting an array element with a sequence.",
     "output_type": "error",
     "traceback": [
      "\u001b[0;31m---------------------------------------------------------------------------\u001b[0m",
      "\u001b[0;31mValueError\u001b[0m                                Traceback (most recent call last)",
      "\u001b[0;32m<ipython-input-6-2f4463a5576d>\u001b[0m in \u001b[0;36m<module>\u001b[0;34m()\u001b[0m\n\u001b[1;32m      1\u001b[0m \u001b[0mk_means\u001b[0m \u001b[0;34m=\u001b[0m \u001b[0mcluster\u001b[0m\u001b[0;34m.\u001b[0m\u001b[0mKMeans\u001b[0m\u001b[0;34m(\u001b[0m\u001b[0mn_clusters\u001b[0m\u001b[0;34m=\u001b[0m\u001b[0;36m3\u001b[0m\u001b[0;34m)\u001b[0m\u001b[0;34m\u001b[0m\u001b[0m\n\u001b[0;32m----> 2\u001b[0;31m \u001b[0mk_means\u001b[0m\u001b[0;34m.\u001b[0m\u001b[0mfit_predict\u001b[0m\u001b[0;34m(\u001b[0m\u001b[0mml_df\u001b[0m\u001b[0;34m)\u001b[0m\u001b[0;34m\u001b[0m\u001b[0m\n\u001b[0m\u001b[1;32m      3\u001b[0m \u001b[0;34m\u001b[0m\u001b[0m\n\u001b[1;32m      4\u001b[0m \u001b[0mprint\u001b[0m\u001b[0;34m(\u001b[0m\u001b[0mk_means\u001b[0m\u001b[0;34m.\u001b[0m\u001b[0mlabels_\u001b[0m\u001b[0;34m[\u001b[0m\u001b[0;34m:\u001b[0m\u001b[0;34m:\u001b[0m\u001b[0;36m10\u001b[0m\u001b[0;34m]\u001b[0m\u001b[0;34m)\u001b[0m\u001b[0;34m\u001b[0m\u001b[0m\n\u001b[1;32m      5\u001b[0m \u001b[0mprint\u001b[0m\u001b[0;34m(\u001b[0m\u001b[0mk_means\u001b[0m\u001b[0;34m.\u001b[0m\u001b[0mcluster_centers_\u001b[0m\u001b[0;34m)\u001b[0m\u001b[0;34m\u001b[0m\u001b[0m\n",
      "\u001b[0;32m~/Documents/Github/defogger/venv/lib/python3.5/site-packages/sklearn/cluster/k_means_.py\u001b[0m in \u001b[0;36mfit_predict\u001b[0;34m(self, X, y)\u001b[0m\n\u001b[1;32m    915\u001b[0m             \u001b[0mIndex\u001b[0m \u001b[0mof\u001b[0m \u001b[0mthe\u001b[0m \u001b[0mcluster\u001b[0m \u001b[0meach\u001b[0m \u001b[0msample\u001b[0m \u001b[0mbelongs\u001b[0m \u001b[0mto\u001b[0m\u001b[0;34m.\u001b[0m\u001b[0;34m\u001b[0m\u001b[0m\n\u001b[1;32m    916\u001b[0m         \"\"\"\n\u001b[0;32m--> 917\u001b[0;31m         \u001b[0;32mreturn\u001b[0m \u001b[0mself\u001b[0m\u001b[0;34m.\u001b[0m\u001b[0mfit\u001b[0m\u001b[0;34m(\u001b[0m\u001b[0mX\u001b[0m\u001b[0;34m)\u001b[0m\u001b[0;34m.\u001b[0m\u001b[0mlabels_\u001b[0m\u001b[0;34m\u001b[0m\u001b[0m\n\u001b[0m\u001b[1;32m    918\u001b[0m \u001b[0;34m\u001b[0m\u001b[0m\n\u001b[1;32m    919\u001b[0m     \u001b[0;32mdef\u001b[0m \u001b[0mfit_transform\u001b[0m\u001b[0;34m(\u001b[0m\u001b[0mself\u001b[0m\u001b[0;34m,\u001b[0m \u001b[0mX\u001b[0m\u001b[0;34m,\u001b[0m \u001b[0my\u001b[0m\u001b[0;34m=\u001b[0m\u001b[0;32mNone\u001b[0m\u001b[0;34m)\u001b[0m\u001b[0;34m:\u001b[0m\u001b[0;34m\u001b[0m\u001b[0m\n",
      "\u001b[0;32m~/Documents/Github/defogger/venv/lib/python3.5/site-packages/sklearn/cluster/k_means_.py\u001b[0m in \u001b[0;36mfit\u001b[0;34m(self, X, y)\u001b[0m\n\u001b[1;32m    885\u001b[0m         \"\"\"\n\u001b[1;32m    886\u001b[0m         \u001b[0mrandom_state\u001b[0m \u001b[0;34m=\u001b[0m \u001b[0mcheck_random_state\u001b[0m\u001b[0;34m(\u001b[0m\u001b[0mself\u001b[0m\u001b[0;34m.\u001b[0m\u001b[0mrandom_state\u001b[0m\u001b[0;34m)\u001b[0m\u001b[0;34m\u001b[0m\u001b[0m\n\u001b[0;32m--> 887\u001b[0;31m         \u001b[0mX\u001b[0m \u001b[0;34m=\u001b[0m \u001b[0mself\u001b[0m\u001b[0;34m.\u001b[0m\u001b[0m_check_fit_data\u001b[0m\u001b[0;34m(\u001b[0m\u001b[0mX\u001b[0m\u001b[0;34m)\u001b[0m\u001b[0;34m\u001b[0m\u001b[0m\n\u001b[0m\u001b[1;32m    888\u001b[0m \u001b[0;34m\u001b[0m\u001b[0m\n\u001b[1;32m    889\u001b[0m         \u001b[0mself\u001b[0m\u001b[0;34m.\u001b[0m\u001b[0mcluster_centers_\u001b[0m\u001b[0;34m,\u001b[0m \u001b[0mself\u001b[0m\u001b[0;34m.\u001b[0m\u001b[0mlabels_\u001b[0m\u001b[0;34m,\u001b[0m \u001b[0mself\u001b[0m\u001b[0;34m.\u001b[0m\u001b[0minertia_\u001b[0m\u001b[0;34m,\u001b[0m \u001b[0mself\u001b[0m\u001b[0;34m.\u001b[0m\u001b[0mn_iter_\u001b[0m \u001b[0;34m=\u001b[0m\u001b[0;31m \u001b[0m\u001b[0;31m\\\u001b[0m\u001b[0;34m\u001b[0m\u001b[0m\n",
      "\u001b[0;32m~/Documents/Github/defogger/venv/lib/python3.5/site-packages/sklearn/cluster/k_means_.py\u001b[0m in \u001b[0;36m_check_fit_data\u001b[0;34m(self, X)\u001b[0m\n\u001b[1;32m    856\u001b[0m     \u001b[0;32mdef\u001b[0m \u001b[0m_check_fit_data\u001b[0m\u001b[0;34m(\u001b[0m\u001b[0mself\u001b[0m\u001b[0;34m,\u001b[0m \u001b[0mX\u001b[0m\u001b[0;34m)\u001b[0m\u001b[0;34m:\u001b[0m\u001b[0;34m\u001b[0m\u001b[0m\n\u001b[1;32m    857\u001b[0m         \u001b[0;34m\"\"\"Verify that the number of samples given is larger than k\"\"\"\u001b[0m\u001b[0;34m\u001b[0m\u001b[0m\n\u001b[0;32m--> 858\u001b[0;31m         \u001b[0mX\u001b[0m \u001b[0;34m=\u001b[0m \u001b[0mcheck_array\u001b[0m\u001b[0;34m(\u001b[0m\u001b[0mX\u001b[0m\u001b[0;34m,\u001b[0m \u001b[0maccept_sparse\u001b[0m\u001b[0;34m=\u001b[0m\u001b[0;34m'csr'\u001b[0m\u001b[0;34m,\u001b[0m \u001b[0mdtype\u001b[0m\u001b[0;34m=\u001b[0m\u001b[0;34m[\u001b[0m\u001b[0mnp\u001b[0m\u001b[0;34m.\u001b[0m\u001b[0mfloat64\u001b[0m\u001b[0;34m,\u001b[0m \u001b[0mnp\u001b[0m\u001b[0;34m.\u001b[0m\u001b[0mfloat32\u001b[0m\u001b[0;34m]\u001b[0m\u001b[0;34m)\u001b[0m\u001b[0;34m\u001b[0m\u001b[0m\n\u001b[0m\u001b[1;32m    859\u001b[0m         \u001b[0;32mif\u001b[0m \u001b[0mX\u001b[0m\u001b[0;34m.\u001b[0m\u001b[0mshape\u001b[0m\u001b[0;34m[\u001b[0m\u001b[0;36m0\u001b[0m\u001b[0;34m]\u001b[0m \u001b[0;34m<\u001b[0m \u001b[0mself\u001b[0m\u001b[0;34m.\u001b[0m\u001b[0mn_clusters\u001b[0m\u001b[0;34m:\u001b[0m\u001b[0;34m\u001b[0m\u001b[0m\n\u001b[1;32m    860\u001b[0m             raise ValueError(\"n_samples=%d should be >= n_clusters=%d\" % (\n",
      "\u001b[0;32m~/Documents/Github/defogger/venv/lib/python3.5/site-packages/sklearn/utils/validation.py\u001b[0m in \u001b[0;36mcheck_array\u001b[0;34m(array, accept_sparse, dtype, order, copy, force_all_finite, ensure_2d, allow_nd, ensure_min_samples, ensure_min_features, warn_on_dtype, estimator)\u001b[0m\n\u001b[1;32m    431\u001b[0m                                       force_all_finite)\n\u001b[1;32m    432\u001b[0m     \u001b[0;32melse\u001b[0m\u001b[0;34m:\u001b[0m\u001b[0;34m\u001b[0m\u001b[0m\n\u001b[0;32m--> 433\u001b[0;31m         \u001b[0marray\u001b[0m \u001b[0;34m=\u001b[0m \u001b[0mnp\u001b[0m\u001b[0;34m.\u001b[0m\u001b[0marray\u001b[0m\u001b[0;34m(\u001b[0m\u001b[0marray\u001b[0m\u001b[0;34m,\u001b[0m \u001b[0mdtype\u001b[0m\u001b[0;34m=\u001b[0m\u001b[0mdtype\u001b[0m\u001b[0;34m,\u001b[0m \u001b[0morder\u001b[0m\u001b[0;34m=\u001b[0m\u001b[0morder\u001b[0m\u001b[0;34m,\u001b[0m \u001b[0mcopy\u001b[0m\u001b[0;34m=\u001b[0m\u001b[0mcopy\u001b[0m\u001b[0;34m)\u001b[0m\u001b[0;34m\u001b[0m\u001b[0m\n\u001b[0m\u001b[1;32m    434\u001b[0m \u001b[0;34m\u001b[0m\u001b[0m\n\u001b[1;32m    435\u001b[0m         \u001b[0;32mif\u001b[0m \u001b[0mensure_2d\u001b[0m\u001b[0;34m:\u001b[0m\u001b[0;34m\u001b[0m\u001b[0m\n",
      "\u001b[0;31mValueError\u001b[0m: setting an array element with a sequence."
     ]
    }
   ],
   "source": [
    "k_means = cluster.KMeans(n_clusters=3)\n",
    "k_means.fit_predict(ml_df) \n",
    "\n",
    "print(k_means.labels_[::10])\n",
    "print(k_means.cluster_centers_)\n",
    "\n",
    "# print(y_iris[::10])"
   ]
  },
  {
   "cell_type": "code",
   "execution_count": null,
   "metadata": {},
   "outputs": [],
   "source": [
    "ml_df.columns.to_series().groupby(ml_df.dtypes).groups"
   ]
  },
  {
   "cell_type": "code",
   "execution_count": 7,
   "metadata": {},
   "outputs": [
    {
     "ename": "ValueError",
     "evalue": "setting an array element with a sequence.",
     "output_type": "error",
     "traceback": [
      "\u001b[0;31m---------------------------------------------------------------------------\u001b[0m",
      "\u001b[0;31mValueError\u001b[0m                                Traceback (most recent call last)",
      "\u001b[0;32m<ipython-input-7-09c83b6377a0>\u001b[0m in \u001b[0;36m<module>\u001b[0;34m()\u001b[0m\n\u001b[1;32m      1\u001b[0m \u001b[0mward\u001b[0m \u001b[0;34m=\u001b[0m \u001b[0mcluster\u001b[0m\u001b[0;34m.\u001b[0m\u001b[0mAgglomerativeClustering\u001b[0m\u001b[0;34m(\u001b[0m\u001b[0mn_clusters\u001b[0m\u001b[0;34m=\u001b[0m\u001b[0;36m3\u001b[0m\u001b[0;34m)\u001b[0m\u001b[0;34m\u001b[0m\u001b[0m\n\u001b[0;32m----> 2\u001b[0;31m \u001b[0mward\u001b[0m\u001b[0;34m.\u001b[0m\u001b[0mfit_predict\u001b[0m\u001b[0;34m(\u001b[0m\u001b[0mml_df\u001b[0m\u001b[0;34m)\u001b[0m\u001b[0;34m\u001b[0m\u001b[0m\n\u001b[0m",
      "\u001b[0;32m~/Documents/Github/defogger/venv/lib/python3.5/site-packages/sklearn/base.py\u001b[0m in \u001b[0;36mfit_predict\u001b[0;34m(self, X, y)\u001b[0m\n\u001b[1;32m    408\u001b[0m         \u001b[0;31m# non-optimized default implementation; override when a better\u001b[0m\u001b[0;34m\u001b[0m\u001b[0;34m\u001b[0m\u001b[0m\n\u001b[1;32m    409\u001b[0m         \u001b[0;31m# method is possible for a given clustering algorithm\u001b[0m\u001b[0;34m\u001b[0m\u001b[0;34m\u001b[0m\u001b[0m\n\u001b[0;32m--> 410\u001b[0;31m         \u001b[0mself\u001b[0m\u001b[0;34m.\u001b[0m\u001b[0mfit\u001b[0m\u001b[0;34m(\u001b[0m\u001b[0mX\u001b[0m\u001b[0;34m)\u001b[0m\u001b[0;34m\u001b[0m\u001b[0m\n\u001b[0m\u001b[1;32m    411\u001b[0m         \u001b[0;32mreturn\u001b[0m \u001b[0mself\u001b[0m\u001b[0;34m.\u001b[0m\u001b[0mlabels_\u001b[0m\u001b[0;34m\u001b[0m\u001b[0m\n\u001b[1;32m    412\u001b[0m \u001b[0;34m\u001b[0m\u001b[0m\n",
      "\u001b[0;32m~/Documents/Github/defogger/venv/lib/python3.5/site-packages/sklearn/cluster/hierarchical.py\u001b[0m in \u001b[0;36mfit\u001b[0;34m(self, X, y)\u001b[0m\n\u001b[1;32m    694\u001b[0m         \u001b[0mself\u001b[0m\u001b[0;34m\u001b[0m\u001b[0m\n\u001b[1;32m    695\u001b[0m         \"\"\"\n\u001b[0;32m--> 696\u001b[0;31m         \u001b[0mX\u001b[0m \u001b[0;34m=\u001b[0m \u001b[0mcheck_array\u001b[0m\u001b[0;34m(\u001b[0m\u001b[0mX\u001b[0m\u001b[0;34m,\u001b[0m \u001b[0mensure_min_samples\u001b[0m\u001b[0;34m=\u001b[0m\u001b[0;36m2\u001b[0m\u001b[0;34m,\u001b[0m \u001b[0mestimator\u001b[0m\u001b[0;34m=\u001b[0m\u001b[0mself\u001b[0m\u001b[0;34m)\u001b[0m\u001b[0;34m\u001b[0m\u001b[0m\n\u001b[0m\u001b[1;32m    697\u001b[0m         \u001b[0mmemory\u001b[0m \u001b[0;34m=\u001b[0m \u001b[0mcheck_memory\u001b[0m\u001b[0;34m(\u001b[0m\u001b[0mself\u001b[0m\u001b[0;34m.\u001b[0m\u001b[0mmemory\u001b[0m\u001b[0;34m)\u001b[0m\u001b[0;34m\u001b[0m\u001b[0m\n\u001b[1;32m    698\u001b[0m \u001b[0;34m\u001b[0m\u001b[0m\n",
      "\u001b[0;32m~/Documents/Github/defogger/venv/lib/python3.5/site-packages/sklearn/utils/validation.py\u001b[0m in \u001b[0;36mcheck_array\u001b[0;34m(array, accept_sparse, dtype, order, copy, force_all_finite, ensure_2d, allow_nd, ensure_min_samples, ensure_min_features, warn_on_dtype, estimator)\u001b[0m\n\u001b[1;32m    446\u001b[0m         \u001b[0;31m# make sure we actually converted to numeric:\u001b[0m\u001b[0;34m\u001b[0m\u001b[0;34m\u001b[0m\u001b[0m\n\u001b[1;32m    447\u001b[0m         \u001b[0;32mif\u001b[0m \u001b[0mdtype_numeric\u001b[0m \u001b[0;32mand\u001b[0m \u001b[0marray\u001b[0m\u001b[0;34m.\u001b[0m\u001b[0mdtype\u001b[0m\u001b[0;34m.\u001b[0m\u001b[0mkind\u001b[0m \u001b[0;34m==\u001b[0m \u001b[0;34m\"O\"\u001b[0m\u001b[0;34m:\u001b[0m\u001b[0;34m\u001b[0m\u001b[0m\n\u001b[0;32m--> 448\u001b[0;31m             \u001b[0marray\u001b[0m \u001b[0;34m=\u001b[0m \u001b[0marray\u001b[0m\u001b[0;34m.\u001b[0m\u001b[0mastype\u001b[0m\u001b[0;34m(\u001b[0m\u001b[0mnp\u001b[0m\u001b[0;34m.\u001b[0m\u001b[0mfloat64\u001b[0m\u001b[0;34m)\u001b[0m\u001b[0;34m\u001b[0m\u001b[0m\n\u001b[0m\u001b[1;32m    449\u001b[0m         \u001b[0;32mif\u001b[0m \u001b[0;32mnot\u001b[0m \u001b[0mallow_nd\u001b[0m \u001b[0;32mand\u001b[0m \u001b[0marray\u001b[0m\u001b[0;34m.\u001b[0m\u001b[0mndim\u001b[0m \u001b[0;34m>=\u001b[0m \u001b[0;36m3\u001b[0m\u001b[0;34m:\u001b[0m\u001b[0;34m\u001b[0m\u001b[0m\n\u001b[1;32m    450\u001b[0m             raise ValueError(\"Found array with dim %d. %s expected <= 2.\"\n",
      "\u001b[0;31mValueError\u001b[0m: setting an array element with a sequence."
     ]
    }
   ],
   "source": [
    "ward = cluster.AgglomerativeClustering(n_clusters=3)\n",
    "ward.fit_predict(ml_df) "
   ]
  },
  {
   "cell_type": "code",
   "execution_count": null,
   "metadata": {},
   "outputs": [],
   "source": []
  }
 ],
 "metadata": {
  "kernelspec": {
   "display_name": "Python 3",
   "language": "python",
   "name": "python3"
  },
  "language_info": {
   "codemirror_mode": {
    "name": "ipython",
    "version": 3
   },
   "file_extension": ".py",
   "mimetype": "text/x-python",
   "name": "python",
   "nbconvert_exporter": "python",
   "pygments_lexer": "ipython3",
   "version": "3.5.2"
  }
 },
 "nbformat": 4,
 "nbformat_minor": 2
}
