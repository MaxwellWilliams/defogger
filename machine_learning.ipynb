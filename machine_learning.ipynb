{
 "cells": [
  {
   "cell_type": "markdown",
   "metadata": {},
   "source": [
    "# SciKit-Learn Machine Learning"
   ]
  },
  {
   "cell_type": "code",
   "execution_count": 7,
   "metadata": {},
   "outputs": [],
   "source": [
    "import pandas as pd\n",
    "from datetime import datetime, date, time\n",
    "from sklearn import cluster, datasets, preprocessing\n",
    "from sklearn.neural_network import BernoulliRBM\n",
    "\n",
    "from lapd_codes.crime_codes import crime_codes\n",
    "from lapd_codes.mo_codes import mo_codes\n",
    "from lapd_codes.area_ids import area_ids"
   ]
  },
  {
   "cell_type": "code",
   "execution_count": 2,
   "metadata": {},
   "outputs": [],
   "source": [
    "max_rows = 2000000\n",
    "url = 'https://data.lacity.org/resource/7fvc-faax.csv?$limit=' + str(max_rows)\n",
    "df = pd.read_csv(url)"
   ]
  },
  {
   "cell_type": "code",
   "execution_count": 3,
   "metadata": {},
   "outputs": [
    {
     "name": "stdout",
     "output_type": "stream",
     "text": [
      "Index(['area_id', 'area_name', 'crm_cd', 'crm_cd_1', 'crm_cd_2', 'crm_cd_3',\n",
      "       'crm_cd_4', 'crm_cd_desc', 'cross_street', 'date_occ', 'date_rptd',\n",
      "       'dr_no', 'location', 'location_1', 'location_1_address',\n",
      "       'location_1_city', 'location_1_state', 'location_1_zip', 'mocodes',\n",
      "       'premis_cd', 'premis_desc', 'rpt_dist_no', 'status', 'status_desc',\n",
      "       'time_occ', 'vict_age', 'vict_descent', 'vict_sex', 'weapon_desc',\n",
      "       'weapon_used_cd'],\n",
      "      dtype='object')\n"
     ]
    }
   ],
   "source": [
    "print(df.keys())"
   ]
  },
  {
   "cell_type": "code",
   "execution_count": 6,
   "metadata": {
    "scrolled": false
   },
   "outputs": [],
   "source": [
    "def remove_columns(ml_df, columns):\n",
    "    for column in columns:\n",
    "        ml_df = ml_df.drop(column, 1)\n",
    "    return ml_df  \n",
    "\n",
    "def remove_partial_rows(ml_df):\n",
    "    null_indicies  = ml_df.index[ml_df.isnull().any(axis=1)].tolist()\n",
    "    return ml_df.drop(null_indicies)\n",
    "        \n",
    "def format_occ_datetime(ml_df):\n",
    "    date_occ_index = list(ml_df.keys()).index('date_occ')\n",
    "    time_occ_index = list(ml_df.keys()).index('time_occ')\n",
    "    datetimes = []\n",
    "    for row in ml_df.values:\n",
    "        date_occured = datetime.strptime(row[date_occ_index], '%Y-%m-%dT%H:%M:%S.%f')\n",
    "        time_occured = str(row[time_occ_index])\n",
    "\n",
    "        if len(time_occured) == 4:\n",
    "            hour = int(time_occured[0:2])\n",
    "            minute = int(time_occured[2:len(time_occured)])\n",
    "        elif len(time_occured) == 3:\n",
    "            hour = int(time_occured[0])\n",
    "            minute = int(time_occured[1:len(time_occured)])\n",
    "        else:\n",
    "            hour = 0\n",
    "            minute = int(time_occured[0:len(time_occured)])\n",
    "\n",
    "        datetime_occured  = date_occured.replace(hour=hour, minute=minute)\n",
    "        datetimes.append(datetime_occured)\n",
    "\n",
    "    ml_df = remove_columns(ml_df, ['date_occ', 'time_occ'])\n",
    "    ml_df['year_occ'] = pd.Series([int(date.year) for date in datetimes], index=ml_df.index)\n",
    "    ml_df['month_occ'] = pd.Series([int(date.month) for date in datetimes], index=ml_df.index)\n",
    "    ml_df['weekday_occ'] = pd.Series([int(date.weekday()) for date in datetimes], index=ml_df.index)\n",
    "    ml_df['hour_occ'] = pd.Series([int(date.hour) for date in datetimes], index=ml_df.index)\n",
    "#     ml_df['minute_occ'] = pd.Series([int(date.minute) for date in datetimes], index=ml_df.index)\n",
    "    \n",
    "    return ml_df\n",
    "\n",
    "def format_rptd_datetime(ml_df):\n",
    "    date_rptd_index = list(ml_df.keys()).index('date_rptd')\n",
    "    datetimes = []\n",
    "    for row in ml_df.values:\n",
    "        date_reported = datetime.strptime(row[date_rptd_index], '%Y-%m-%dT%H:%M:%S.%f')\n",
    "        datetimes.append(date_reported)\n",
    "    \n",
    "    ml_df = remove_columns(ml_df, ['date_rptd'])\n",
    "    ml_df['year_rptd'] = pd.Series([int(date.year) for date in datetimes], index=ml_df.index)\n",
    "    ml_df['month_rptd'] = pd.Series([int(date.month) for date in datetimes], index=ml_df.index)\n",
    "    ml_df['day_rptd'] = pd.Series([int(date.day) for date in datetimes], index=ml_df.index)\n",
    "    return ml_df\n",
    "\n",
    "def convert_location_to_lat_long(ml_df):\n",
    "    locations = ml_df['location_1']\n",
    "    longs = []\n",
    "    lats = []\n",
    "    for location in locations:\n",
    "        location = location[7:len(location)-1]\n",
    "        long, lat = location.split(' ')\n",
    "        longs.append(float(long))\n",
    "        lats.append(float(lat))\n",
    "    \n",
    "    ml_df = remove_columns(ml_df, ['location_1'])\n",
    "    ml_df['location_long'] = pd.Series(longs, index=ml_df.index)\n",
    "    ml_df['location_lat'] = pd.Series(lats, index=ml_df.index)\n",
    "    return ml_df\n",
    " \n",
    "def select_year_occ(ml_df, year):\n",
    "    return ml_df.loc[ml_df['year_occ'] == year]\n",
    "\n",
    "def encode_labels(ml_df, column_titles):\n",
    "    return pd.get_dummies(ml_df, columns=column_titles)\n",
    "\n",
    "\n",
    "# Potentially useful: mocodes, premis_cd, weapon_used_cd, date_rptd, rpt_dist_no\n",
    "columns_remove = [\n",
    "    'area_name', 'crm_cd_1', 'crm_cd_2', 'crm_cd_3', 'crm_cd_4', 'crm_cd_desc', 'cross_street', 'dr_no', \n",
    "    'location', 'location_1_address', 'location_1_city', 'location_1_state', 'location_1_zip', 'mocodes', \n",
    "    'premis_cd', 'premis_desc', 'status', 'status_desc', 'weapon_desc', 'weapon_used_cd',\n",
    "    'date_rptd', 'rpt_dist_no'\n",
    "]\n",
    "\n",
    "ml_df = remove_columns(df, columns_remove)\n",
    "ml_df = remove_partial_rows(ml_df)\n",
    "ml_df = format_occ_datetime(ml_df)\n",
    "# ml_df = format_rptd_datetime(ml_df)\n",
    "ml_df = convert_location_to_lat_long(ml_df)\n",
    "\n",
    "# Filter Crimes\n",
    "ml_df = select_year_occ(ml_df, 2017)\n",
    "\n",
    "\n",
    "# Supervised Neural Network\n",
    "crm_cds = ml_df['crm_cd'].tolist()\n",
    "ml_df = remove_columns(ml_df, ['crm_cd'])\n",
    "ml_df = encode_labels(ml_df, ['area_id', 'vict_descent', 'vict_sex', 'month_occ', 'weekday_occ'])\n",
    "# Try encoding year\n",
    "# ml_df = encode_labels(ml_df, ['area_id', 'crm_cd', 'vict_descent', 'vict_sex', 'month_occ', 'weekday_occ'])"
   ]
  },
  {
   "cell_type": "code",
   "execution_count": 5,
   "metadata": {},
   "outputs": [
    {
     "name": "stdout",
     "output_type": "stream",
     "text": [
      "ml_df:\n",
      "67\n",
      "{dtype('uint8'): Index(['area_id_1', 'area_id_2', 'area_id_3', 'area_id_4', 'area_id_5',\n",
      "       'area_id_6', 'area_id_7', 'area_id_8', 'area_id_9', 'area_id_10',\n",
      "       'area_id_11', 'area_id_12', 'area_id_13', 'area_id_14', 'area_id_15',\n",
      "       'area_id_16', 'area_id_17', 'area_id_18', 'area_id_19', 'area_id_20',\n",
      "       'area_id_21', 'vict_descent_A', 'vict_descent_B', 'vict_descent_C',\n",
      "       'vict_descent_D', 'vict_descent_F', 'vict_descent_G', 'vict_descent_H',\n",
      "       'vict_descent_I', 'vict_descent_J', 'vict_descent_K', 'vict_descent_O',\n",
      "       'vict_descent_P', 'vict_descent_S', 'vict_descent_U', 'vict_descent_V',\n",
      "       'vict_descent_W', 'vict_descent_X', 'vict_descent_Z', 'vict_sex_F',\n",
      "       'vict_sex_H', 'vict_sex_M', 'vict_sex_X', 'month_occ_1', 'month_occ_2',\n",
      "       'month_occ_3', 'month_occ_4', 'month_occ_5', 'month_occ_6',\n",
      "       'month_occ_7', 'month_occ_8', 'month_occ_9', 'month_occ_10',\n",
      "       'month_occ_11', 'month_occ_12', 'weekday_occ_0', 'weekday_occ_1',\n",
      "       'weekday_occ_2', 'weekday_occ_3', 'weekday_occ_4', 'weekday_occ_5',\n",
      "       'weekday_occ_6'],\n",
      "      dtype='object'), dtype('float64'): Index(['vict_age', 'location_long', 'location_lat'], dtype='object'), dtype('int64'): Index(['year_occ', 'hour_occ'], dtype='object')}\n"
     ]
    }
   ],
   "source": [
    "print('ml_df:')\n",
    "print(len(ml_df.keys()))\n",
    "print(ml_df.columns.to_series().groupby(ml_df.dtypes).groups)"
   ]
  },
  {
   "cell_type": "code",
   "execution_count": 36,
   "metadata": {},
   "outputs": [],
   "source": [
    "location_df = ml_df[['location_long', 'location_lat', 'crm_cd']]\n",
    "location_df = encode_labels(location_df, ['crm_cd'])"
   ]
  },
  {
   "cell_type": "markdown",
   "metadata": {},
   "source": [
    "## Machine Learning"
   ]
  },
  {
   "cell_type": "code",
   "execution_count": null,
   "metadata": {},
   "outputs": [],
   "source": [
    "k_means = cluster.KMeans(n_clusters=10)\n",
    "k_means.fit_predict(location_df) \n",
    "\n",
    "# print(k_means.labels_[::10])\n",
    "print(k_means.cluster_centers_)\n",
    "\n",
    "# print(y_iris[::10])"
   ]
  },
  {
   "cell_type": "code",
   "execution_count": null,
   "metadata": {},
   "outputs": [],
   "source": [
    "print(location_df.keys())\n",
    "print(k_means.cluster_centers_[3])"
   ]
  },
  {
   "cell_type": "code",
   "execution_count": null,
   "metadata": {},
   "outputs": [],
   "source": [
    "ward = cluster.AgglomerativeClustering(n_clusters=3)\n",
    "ward.fit_predict(location_df) "
   ]
  },
  {
   "cell_type": "markdown",
   "metadata": {},
   "source": [
    "### MLP Classifier"
   ]
  },
  {
   "cell_type": "code",
   "execution_count": 54,
   "metadata": {},
   "outputs": [
    {
     "data": {
      "text/plain": [
       "MLPClassifier(activation='relu', alpha=1e-05, batch_size='auto', beta_1=0.9,\n",
       "       beta_2=0.999, early_stopping=False, epsilon=1e-08,\n",
       "       hidden_layer_sizes=(5, 2), learning_rate='constant',\n",
       "       learning_rate_init=0.001, max_iter=200, momentum=0.9,\n",
       "       nesterovs_momentum=True, power_t=0.5, random_state=1, shuffle=True,\n",
       "       solver='lbfgs', tol=0.0001, validation_fraction=0.1, verbose=False,\n",
       "       warm_start=False)"
      ]
     },
     "execution_count": 54,
     "metadata": {},
     "output_type": "execute_result"
    }
   ],
   "source": [
    "from sklearn.neural_network import MLPClassifier\n",
    "\n",
    "X = ml_df.as_matrix()\n",
    "y = crm_cds\n",
    "\n",
    "clf = MLPClassifier(solver='lbfgs', alpha=1e-5,\n",
    "                    hidden_layer_sizes=(5, 2), random_state=1)\n",
    "clf.fit(X, y)"
   ]
  },
  {
   "cell_type": "code",
   "execution_count": 55,
   "metadata": {},
   "outputs": [
    {
     "data": {
      "text/plain": [
       "0.09939342287316594"
      ]
     },
     "execution_count": 55,
     "metadata": {},
     "output_type": "execute_result"
    }
   ],
   "source": [
    "# clf.predict(ml_df.loc[[]])\n",
    "clf.score(X, y)"
   ]
  },
  {
   "cell_type": "markdown",
   "metadata": {},
   "source": [
    "### Random Forest Classifier"
   ]
  },
  {
   "cell_type": "code",
   "execution_count": 27,
   "metadata": {},
   "outputs": [
    {
     "data": {
      "text/plain": [
       "RandomForestClassifier(bootstrap=True, class_weight=None, criterion='gini',\n",
       "            max_depth=None, max_features='auto', max_leaf_nodes=None,\n",
       "            min_impurity_decrease=0.0, min_impurity_split=None,\n",
       "            min_samples_leaf=1, min_samples_split=2,\n",
       "            min_weight_fraction_leaf=0.0, n_estimators=10, n_jobs=1,\n",
       "            oob_score=False, random_state=0, verbose=0, warm_start=False)"
      ]
     },
     "execution_count": 27,
     "metadata": {},
     "output_type": "execute_result"
    }
   ],
   "source": [
    "from sklearn.ensemble import RandomForestClassifier\n",
    "\n",
    "X = ml_df\n",
    "y = crm_cds\n",
    "\n",
    "clf_tree = RandomForestClassifier(random_state=0)\n",
    "clf_tree.fit(X, y)"
   ]
  },
  {
   "cell_type": "code",
   "execution_count": 28,
   "metadata": {},
   "outputs": [
    {
     "data": {
      "text/plain": [
       "0.9874858032221427"
      ]
     },
     "execution_count": 28,
     "metadata": {},
     "output_type": "execute_result"
    }
   ],
   "source": [
    "clf_tree.score(X, y)"
   ]
  },
  {
   "cell_type": "code",
   "execution_count": 29,
   "metadata": {},
   "outputs": [
    {
     "name": "stdout",
     "output_type": "stream",
     "text": [
      "[626, 624, 236, 624, 930, 626, 230, 930, 930, 230]\n"
     ]
    },
    {
     "data": {
      "text/plain": [
       "array([626, 624, 236, 624, 930, 626, 230, 930, 930, 230])"
      ]
     },
     "execution_count": 29,
     "metadata": {},
     "output_type": "execute_result"
    }
   ],
   "source": [
    "print(y[0:10])\n",
    "clf_tree.predict(X[0:10])"
   ]
  },
  {
   "cell_type": "code",
   "execution_count": null,
   "metadata": {},
   "outputs": [],
   "source": [
    "'area_id_1', 'area_id_2', 'area_id_3', 'area_id_4', 'area_id_5',\n",
    "       'area_id_6', 'area_id_7', 'area_id_8', 'area_id_9', 'area_id_10',\n",
    "       'area_id_11', 'area_id_12', 'area_id_13', 'area_id_14', 'area_id_15',\n",
    "       'area_id_16', 'area_id_17', 'area_id_18', 'area_id_19', 'area_id_20',\n",
    "       'area_id_21', 'vict_descent_A', 'vict_descent_B', 'vict_descent_C',\n",
    "       'vict_descent_D', 'vict_descent_F', 'vict_descent_G', 'vict_descent_H',\n",
    "       'vict_descent_I', 'vict_descent_J', 'vict_descent_K', 'vict_descent_O',\n",
    "       'vict_descent_P', 'vict_descent_S', 'vict_descent_U', 'vict_descent_V',\n",
    "       'vict_descent_W', 'vict_descent_X', 'vict_descent_Z', 'vict_sex_F',\n",
    "       'vict_sex_H', 'vict_sex_M', 'vict_sex_X', 'month_occ_1', 'month_occ_2',\n",
    "       'month_occ_3', 'month_occ_4', 'month_occ_5', 'month_occ_6',\n",
    "       'month_occ_7', 'month_occ_8', 'month_occ_9', 'month_occ_10',\n",
    "       'month_occ_11', 'month_occ_12', 'weekday_occ_0', 'weekday_occ_1',\n",
    "       'weekday_occ_2', 'weekday_occ_3', 'weekday_occ_4', 'weekday_occ_5',\n",
    "       'weekday_occ_6'\n",
    "        \n",
    "\n",
    "        \n"
   ]
  },
  {
   "cell_type": "code",
   "execution_count": 9,
   "metadata": {},
   "outputs": [
    {
     "name": "stdout",
     "output_type": "stream",
     "text": [
      "dict_keys(['Van Nuys', 'West Valley', 'Southwest', 'Devonshire', 'Pacific', 'Olympic', 'Wilshire', 'Hollywood', 'Harbor', '77th Street', 'Hollenbeck', 'Northeast', 'N Hollywood', 'Rampart', 'Foothill', 'Mission', 'Southeast', 'Newton', 'Topanga', 'Central', 'West LA'])\n"
     ]
    }
   ],
   "source": [
    "print(area_ids.keys())"
   ]
  },
  {
   "cell_type": "code",
   "execution_count": 50,
   "metadata": {},
   "outputs": [],
   "source": [
    "def create_test_crime(area, victim_descent, victim_sex, month_occured, weekday_occured):\n",
    "    # Inputs: area (string) = Van Nuys, West Valley, Southwest, Devonshire, Pacific, Olympic, Wilshire, Hollywood,\n",
    "    #                Harbor, 77th Street, Hollenbeck, Northeast, N Hollywood, Rampart, Foothill, Mission, Southeast,\n",
    "    #                Newton, Topanga, Central, West LA\n",
    "    #         victim_descent (string) = A, B, C, D, F, G, H, I, J, K, O, P, S, U, V, W, X, Z,\n",
    "    #         victim_sex (string) = F, H, M, X\n",
    "    #         month_occured (int) = 1, 2, 3, 4, 5, 6, 7, 8, 9, 10, 11, 12\n",
    "    #         weekday_occured (int) = 0, 1, 2, 3, 4, 5, 6\n",
    "    \n",
    "    test_crime = {key: 0 for key in ml_df.keys()}\n",
    "    test_crime['area_id_' + str(area_ids[area])] = 1\n",
    "    test_crime['vict_descent_' + victim_descent] = 1\n",
    "    test_crime['vict_sex_' + victim_sex] = 1\n",
    "    test_crime['month_occ_' + str(month_occured)] = 1\n",
    "    test_crime ['weekday_occ_' + str(weekday_occured)] = 1\n",
    "    \n",
    "    return pd.DataFrame(test_crime, range(1), ml_df.keys())"
   ]
  },
  {
   "cell_type": "code",
   "execution_count": 53,
   "metadata": {},
   "outputs": [
    {
     "ename": "KeyError",
     "evalue": "0",
     "output_type": "error",
     "traceback": [
      "\u001b[0;31m---------------------------------------------------------------------------\u001b[0m",
      "\u001b[0;31mKeyError\u001b[0m                                  Traceback (most recent call last)",
      "\u001b[0;32m~/Documents/Github/defogger/venv/lib/python3.5/site-packages/pandas/core/indexes/base.py\u001b[0m in \u001b[0;36mget_loc\u001b[0;34m(self, key, method, tolerance)\u001b[0m\n\u001b[1;32m   2524\u001b[0m             \u001b[0;32mtry\u001b[0m\u001b[0;34m:\u001b[0m\u001b[0;34m\u001b[0m\u001b[0m\n\u001b[0;32m-> 2525\u001b[0;31m                 \u001b[0;32mreturn\u001b[0m \u001b[0mself\u001b[0m\u001b[0;34m.\u001b[0m\u001b[0m_engine\u001b[0m\u001b[0;34m.\u001b[0m\u001b[0mget_loc\u001b[0m\u001b[0;34m(\u001b[0m\u001b[0mkey\u001b[0m\u001b[0;34m)\u001b[0m\u001b[0;34m\u001b[0m\u001b[0m\n\u001b[0m\u001b[1;32m   2526\u001b[0m             \u001b[0;32mexcept\u001b[0m \u001b[0mKeyError\u001b[0m\u001b[0;34m:\u001b[0m\u001b[0;34m\u001b[0m\u001b[0m\n",
      "\u001b[0;32mpandas/_libs/index.pyx\u001b[0m in \u001b[0;36mpandas._libs.index.IndexEngine.get_loc\u001b[0;34m()\u001b[0m\n",
      "\u001b[0;32mpandas/_libs/index.pyx\u001b[0m in \u001b[0;36mpandas._libs.index.IndexEngine.get_loc\u001b[0;34m()\u001b[0m\n",
      "\u001b[0;32mpandas/_libs/hashtable_class_helper.pxi\u001b[0m in \u001b[0;36mpandas._libs.hashtable.PyObjectHashTable.get_item\u001b[0;34m()\u001b[0m\n",
      "\u001b[0;32mpandas/_libs/hashtable_class_helper.pxi\u001b[0m in \u001b[0;36mpandas._libs.hashtable.PyObjectHashTable.get_item\u001b[0;34m()\u001b[0m\n",
      "\u001b[0;31mKeyError\u001b[0m: 0",
      "\nDuring handling of the above exception, another exception occurred:\n",
      "\u001b[0;31mKeyError\u001b[0m                                  Traceback (most recent call last)",
      "\u001b[0;32m<ipython-input-53-83b3aff7b102>\u001b[0m in \u001b[0;36m<module>\u001b[0;34m()\u001b[0m\n\u001b[1;32m      1\u001b[0m \u001b[0mtest_crime\u001b[0m \u001b[0;34m=\u001b[0m \u001b[0mcreate_test_crime\u001b[0m\u001b[0;34m(\u001b[0m\u001b[0;34m'Central'\u001b[0m\u001b[0;34m,\u001b[0m \u001b[0;34m'W'\u001b[0m\u001b[0;34m,\u001b[0m \u001b[0;34m'M'\u001b[0m\u001b[0;34m,\u001b[0m \u001b[0;36m1\u001b[0m\u001b[0;34m,\u001b[0m \u001b[0;36m1\u001b[0m\u001b[0;34m)\u001b[0m\u001b[0;34m\u001b[0m\u001b[0m\n\u001b[0;32m----> 2\u001b[0;31m \u001b[0mclf_tree\u001b[0m\u001b[0;34m.\u001b[0m\u001b[0mpredict\u001b[0m\u001b[0;34m(\u001b[0m\u001b[0mcrime_codes\u001b[0m\u001b[0;34m[\u001b[0m\u001b[0mstr\u001b[0m\u001b[0;34m(\u001b[0m\u001b[0mtest_crime\u001b[0m\u001b[0;34m[\u001b[0m\u001b[0;36m0\u001b[0m\u001b[0;34m]\u001b[0m\u001b[0;34m)\u001b[0m\u001b[0;34m]\u001b[0m\u001b[0;34m)\u001b[0m\u001b[0;34m\u001b[0m\u001b[0m\n\u001b[0m",
      "\u001b[0;32m~/Documents/Github/defogger/venv/lib/python3.5/site-packages/pandas/core/frame.py\u001b[0m in \u001b[0;36m__getitem__\u001b[0;34m(self, key)\u001b[0m\n\u001b[1;32m   2137\u001b[0m             \u001b[0;32mreturn\u001b[0m \u001b[0mself\u001b[0m\u001b[0;34m.\u001b[0m\u001b[0m_getitem_multilevel\u001b[0m\u001b[0;34m(\u001b[0m\u001b[0mkey\u001b[0m\u001b[0;34m)\u001b[0m\u001b[0;34m\u001b[0m\u001b[0m\n\u001b[1;32m   2138\u001b[0m         \u001b[0;32melse\u001b[0m\u001b[0;34m:\u001b[0m\u001b[0;34m\u001b[0m\u001b[0m\n\u001b[0;32m-> 2139\u001b[0;31m             \u001b[0;32mreturn\u001b[0m \u001b[0mself\u001b[0m\u001b[0;34m.\u001b[0m\u001b[0m_getitem_column\u001b[0m\u001b[0;34m(\u001b[0m\u001b[0mkey\u001b[0m\u001b[0;34m)\u001b[0m\u001b[0;34m\u001b[0m\u001b[0m\n\u001b[0m\u001b[1;32m   2140\u001b[0m \u001b[0;34m\u001b[0m\u001b[0m\n\u001b[1;32m   2141\u001b[0m     \u001b[0;32mdef\u001b[0m \u001b[0m_getitem_column\u001b[0m\u001b[0;34m(\u001b[0m\u001b[0mself\u001b[0m\u001b[0;34m,\u001b[0m \u001b[0mkey\u001b[0m\u001b[0;34m)\u001b[0m\u001b[0;34m:\u001b[0m\u001b[0;34m\u001b[0m\u001b[0m\n",
      "\u001b[0;32m~/Documents/Github/defogger/venv/lib/python3.5/site-packages/pandas/core/frame.py\u001b[0m in \u001b[0;36m_getitem_column\u001b[0;34m(self, key)\u001b[0m\n\u001b[1;32m   2144\u001b[0m         \u001b[0;31m# get column\u001b[0m\u001b[0;34m\u001b[0m\u001b[0;34m\u001b[0m\u001b[0m\n\u001b[1;32m   2145\u001b[0m         \u001b[0;32mif\u001b[0m \u001b[0mself\u001b[0m\u001b[0;34m.\u001b[0m\u001b[0mcolumns\u001b[0m\u001b[0;34m.\u001b[0m\u001b[0mis_unique\u001b[0m\u001b[0;34m:\u001b[0m\u001b[0;34m\u001b[0m\u001b[0m\n\u001b[0;32m-> 2146\u001b[0;31m             \u001b[0;32mreturn\u001b[0m \u001b[0mself\u001b[0m\u001b[0;34m.\u001b[0m\u001b[0m_get_item_cache\u001b[0m\u001b[0;34m(\u001b[0m\u001b[0mkey\u001b[0m\u001b[0;34m)\u001b[0m\u001b[0;34m\u001b[0m\u001b[0m\n\u001b[0m\u001b[1;32m   2147\u001b[0m \u001b[0;34m\u001b[0m\u001b[0m\n\u001b[1;32m   2148\u001b[0m         \u001b[0;31m# duplicate columns & possible reduce dimensionality\u001b[0m\u001b[0;34m\u001b[0m\u001b[0;34m\u001b[0m\u001b[0m\n",
      "\u001b[0;32m~/Documents/Github/defogger/venv/lib/python3.5/site-packages/pandas/core/generic.py\u001b[0m in \u001b[0;36m_get_item_cache\u001b[0;34m(self, item)\u001b[0m\n\u001b[1;32m   1840\u001b[0m         \u001b[0mres\u001b[0m \u001b[0;34m=\u001b[0m \u001b[0mcache\u001b[0m\u001b[0;34m.\u001b[0m\u001b[0mget\u001b[0m\u001b[0;34m(\u001b[0m\u001b[0mitem\u001b[0m\u001b[0;34m)\u001b[0m\u001b[0;34m\u001b[0m\u001b[0m\n\u001b[1;32m   1841\u001b[0m         \u001b[0;32mif\u001b[0m \u001b[0mres\u001b[0m \u001b[0;32mis\u001b[0m \u001b[0;32mNone\u001b[0m\u001b[0;34m:\u001b[0m\u001b[0;34m\u001b[0m\u001b[0m\n\u001b[0;32m-> 1842\u001b[0;31m             \u001b[0mvalues\u001b[0m \u001b[0;34m=\u001b[0m \u001b[0mself\u001b[0m\u001b[0;34m.\u001b[0m\u001b[0m_data\u001b[0m\u001b[0;34m.\u001b[0m\u001b[0mget\u001b[0m\u001b[0;34m(\u001b[0m\u001b[0mitem\u001b[0m\u001b[0;34m)\u001b[0m\u001b[0;34m\u001b[0m\u001b[0m\n\u001b[0m\u001b[1;32m   1843\u001b[0m             \u001b[0mres\u001b[0m \u001b[0;34m=\u001b[0m \u001b[0mself\u001b[0m\u001b[0;34m.\u001b[0m\u001b[0m_box_item_values\u001b[0m\u001b[0;34m(\u001b[0m\u001b[0mitem\u001b[0m\u001b[0;34m,\u001b[0m \u001b[0mvalues\u001b[0m\u001b[0;34m)\u001b[0m\u001b[0;34m\u001b[0m\u001b[0m\n\u001b[1;32m   1844\u001b[0m             \u001b[0mcache\u001b[0m\u001b[0;34m[\u001b[0m\u001b[0mitem\u001b[0m\u001b[0;34m]\u001b[0m \u001b[0;34m=\u001b[0m \u001b[0mres\u001b[0m\u001b[0;34m\u001b[0m\u001b[0m\n",
      "\u001b[0;32m~/Documents/Github/defogger/venv/lib/python3.5/site-packages/pandas/core/internals.py\u001b[0m in \u001b[0;36mget\u001b[0;34m(self, item, fastpath)\u001b[0m\n\u001b[1;32m   3841\u001b[0m \u001b[0;34m\u001b[0m\u001b[0m\n\u001b[1;32m   3842\u001b[0m             \u001b[0;32mif\u001b[0m \u001b[0;32mnot\u001b[0m \u001b[0misna\u001b[0m\u001b[0;34m(\u001b[0m\u001b[0mitem\u001b[0m\u001b[0;34m)\u001b[0m\u001b[0;34m:\u001b[0m\u001b[0;34m\u001b[0m\u001b[0m\n\u001b[0;32m-> 3843\u001b[0;31m                 \u001b[0mloc\u001b[0m \u001b[0;34m=\u001b[0m \u001b[0mself\u001b[0m\u001b[0;34m.\u001b[0m\u001b[0mitems\u001b[0m\u001b[0;34m.\u001b[0m\u001b[0mget_loc\u001b[0m\u001b[0;34m(\u001b[0m\u001b[0mitem\u001b[0m\u001b[0;34m)\u001b[0m\u001b[0;34m\u001b[0m\u001b[0m\n\u001b[0m\u001b[1;32m   3844\u001b[0m             \u001b[0;32melse\u001b[0m\u001b[0;34m:\u001b[0m\u001b[0;34m\u001b[0m\u001b[0m\n\u001b[1;32m   3845\u001b[0m                 \u001b[0mindexer\u001b[0m \u001b[0;34m=\u001b[0m \u001b[0mnp\u001b[0m\u001b[0;34m.\u001b[0m\u001b[0marange\u001b[0m\u001b[0;34m(\u001b[0m\u001b[0mlen\u001b[0m\u001b[0;34m(\u001b[0m\u001b[0mself\u001b[0m\u001b[0;34m.\u001b[0m\u001b[0mitems\u001b[0m\u001b[0;34m)\u001b[0m\u001b[0;34m)\u001b[0m\u001b[0;34m[\u001b[0m\u001b[0misna\u001b[0m\u001b[0;34m(\u001b[0m\u001b[0mself\u001b[0m\u001b[0;34m.\u001b[0m\u001b[0mitems\u001b[0m\u001b[0;34m)\u001b[0m\u001b[0;34m]\u001b[0m\u001b[0;34m\u001b[0m\u001b[0m\n",
      "\u001b[0;32m~/Documents/Github/defogger/venv/lib/python3.5/site-packages/pandas/core/indexes/base.py\u001b[0m in \u001b[0;36mget_loc\u001b[0;34m(self, key, method, tolerance)\u001b[0m\n\u001b[1;32m   2525\u001b[0m                 \u001b[0;32mreturn\u001b[0m \u001b[0mself\u001b[0m\u001b[0;34m.\u001b[0m\u001b[0m_engine\u001b[0m\u001b[0;34m.\u001b[0m\u001b[0mget_loc\u001b[0m\u001b[0;34m(\u001b[0m\u001b[0mkey\u001b[0m\u001b[0;34m)\u001b[0m\u001b[0;34m\u001b[0m\u001b[0m\n\u001b[1;32m   2526\u001b[0m             \u001b[0;32mexcept\u001b[0m \u001b[0mKeyError\u001b[0m\u001b[0;34m:\u001b[0m\u001b[0;34m\u001b[0m\u001b[0m\n\u001b[0;32m-> 2527\u001b[0;31m                 \u001b[0;32mreturn\u001b[0m \u001b[0mself\u001b[0m\u001b[0;34m.\u001b[0m\u001b[0m_engine\u001b[0m\u001b[0;34m.\u001b[0m\u001b[0mget_loc\u001b[0m\u001b[0;34m(\u001b[0m\u001b[0mself\u001b[0m\u001b[0;34m.\u001b[0m\u001b[0m_maybe_cast_indexer\u001b[0m\u001b[0;34m(\u001b[0m\u001b[0mkey\u001b[0m\u001b[0;34m)\u001b[0m\u001b[0;34m)\u001b[0m\u001b[0;34m\u001b[0m\u001b[0m\n\u001b[0m\u001b[1;32m   2528\u001b[0m \u001b[0;34m\u001b[0m\u001b[0m\n\u001b[1;32m   2529\u001b[0m         \u001b[0mindexer\u001b[0m \u001b[0;34m=\u001b[0m \u001b[0mself\u001b[0m\u001b[0;34m.\u001b[0m\u001b[0mget_indexer\u001b[0m\u001b[0;34m(\u001b[0m\u001b[0;34m[\u001b[0m\u001b[0mkey\u001b[0m\u001b[0;34m]\u001b[0m\u001b[0;34m,\u001b[0m \u001b[0mmethod\u001b[0m\u001b[0;34m=\u001b[0m\u001b[0mmethod\u001b[0m\u001b[0;34m,\u001b[0m \u001b[0mtolerance\u001b[0m\u001b[0;34m=\u001b[0m\u001b[0mtolerance\u001b[0m\u001b[0;34m)\u001b[0m\u001b[0;34m\u001b[0m\u001b[0m\n",
      "\u001b[0;32mpandas/_libs/index.pyx\u001b[0m in \u001b[0;36mpandas._libs.index.IndexEngine.get_loc\u001b[0;34m()\u001b[0m\n",
      "\u001b[0;32mpandas/_libs/index.pyx\u001b[0m in \u001b[0;36mpandas._libs.index.IndexEngine.get_loc\u001b[0;34m()\u001b[0m\n",
      "\u001b[0;32mpandas/_libs/hashtable_class_helper.pxi\u001b[0m in \u001b[0;36mpandas._libs.hashtable.PyObjectHashTable.get_item\u001b[0;34m()\u001b[0m\n",
      "\u001b[0;32mpandas/_libs/hashtable_class_helper.pxi\u001b[0m in \u001b[0;36mpandas._libs.hashtable.PyObjectHashTable.get_item\u001b[0;34m()\u001b[0m\n",
      "\u001b[0;31mKeyError\u001b[0m: 0"
     ]
    }
   ],
   "source": [
    "test_crime = create_test_crime('Central', 'W', 'M', 1, 1)\n",
    "clf_tree.predict(crime_codes[str(test_crime[0])])"
   ]
  },
  {
   "cell_type": "code",
   "execution_count": 38,
   "metadata": {},
   "outputs": [
    {
     "name": "stdout",
     "output_type": "stream",
     "text": [
      "         vict_age  year_occ  hour_occ  location_long  location_lat  area_id_1  \\\n",
      "743          19.0      2017        13      -118.2680       34.0407          1   \n",
      "744          21.0      2017        19      -118.2668       34.0401          1   \n",
      "745          25.0      2017        13         0.0000        0.0000          1   \n",
      "746          35.0      2017        14      -118.2443       34.0453          1   \n",
      "747          29.0      2017        20      -118.2443       34.0453          1   \n",
      "749          36.0      2017        15      -118.2450       34.0446          1   \n",
      "750          18.0      2017        15      -118.2409       34.0504          1   \n",
      "751          26.0      2017         1      -118.2509       34.0460          1   \n",
      "753          24.0      2017        10      -118.2439       34.0606          1   \n",
      "754          43.0      2017        18      -118.2400       34.0558          1   \n",
      "755          28.0      2017        20      -118.2328       34.0392          1   \n",
      "756          62.0      2017        20      -118.2488       34.0433          1   \n",
      "757          39.0      2017         9      -118.2469       34.0421          1   \n",
      "758          25.0      2017        10      -118.2341       34.0627          1   \n",
      "759          44.0      2017         0      -118.2466       34.0454          1   \n",
      "761          50.0      2017        14      -118.2631       34.0483          1   \n",
      "762          50.0      2017         6      -118.2485       34.0467          1   \n",
      "763          40.0      2017         2      -118.2451       34.0396          1   \n",
      "764          29.0      2017         2      -118.2451       34.0396          1   \n",
      "766          42.0      2017         3      -118.2397       34.0429          1   \n",
      "767          69.0      2017         7      -118.2547       34.0438          1   \n",
      "768          41.0      2017         9      -118.2463       34.0627          1   \n",
      "769          54.0      2017        10      -118.2469       34.0421          1   \n",
      "770          66.0      2017        12      -118.2443       34.0417          1   \n",
      "771          53.0      2017        21      -118.2468       34.0407          1   \n",
      "773          35.0      2017        11      -118.2606       34.0430          1   \n",
      "774          24.0      2017        22      -118.2441       34.0663          1   \n",
      "775          39.0      2017         8      -118.2455       34.0437          1   \n",
      "776          36.0      2017        19         0.0000        0.0000          1   \n",
      "777          50.0      2017        12      -118.2485       34.0467          1   \n",
      "...           ...       ...       ...            ...           ...        ...   \n",
      "1722879      32.0      2017        22      -118.5967       34.2010          0   \n",
      "1722880      41.0      2017         1      -118.5955       34.2047          0   \n",
      "1722882      41.0      2017        16      -118.6121       34.1595          0   \n",
      "1722883      71.0      2017        18      -118.6203       34.2048          0   \n",
      "1722884      30.0      2017        21      -118.5994       34.2047          0   \n",
      "1722885      42.0      2017        13      -118.5974       34.1733          0   \n",
      "1722886      37.0      2017        16      -118.5754       34.2120          0   \n",
      "1722887      85.0      2017        14      -118.6206       34.2143          0   \n",
      "1722888      39.0      2017        19      -118.5885       34.1992          0   \n",
      "1722889      27.0      2017         6      -118.6007       34.1683          0   \n",
      "1722890      40.0      2017        13      -118.6002       34.1793          0   \n",
      "1722891      46.0      2017        11      -118.5885       34.2010          0   \n",
      "1722892      38.0      2017         8      -118.6103       34.2083          0   \n",
      "1722893      47.0      2017        12      -118.6077       34.1829          0   \n",
      "1722894      63.0      2017         8      -118.6548       34.1752          0   \n",
      "1722895      26.0      2017        12      -118.6080       34.2320          0   \n",
      "1722896      85.0      2017        17      -118.6222       34.1591          0   \n",
      "1722897      41.0      2017        18      -118.5975       34.1805          0   \n",
      "1722898      59.0      2017        18      -118.6428       34.1866          0   \n",
      "1722899      35.0      2017        19      -118.6147       34.1802          0   \n",
      "1722901      54.0      2017        21      -118.6274       34.1883          0   \n",
      "1722902      49.0      2017        17      -118.5724       34.1760          0   \n",
      "1722903      24.0      2017        18      -118.5943       34.2010          0   \n",
      "1722904      25.0      2017         7      -118.5688       34.2047          0   \n",
      "1722905      42.0      2017        12      -118.6027       34.1649          0   \n",
      "1722906      48.0      2017        12      -118.6104       34.1923          0   \n",
      "1722907      24.0      2017        14      -118.6274       34.1883          0   \n",
      "1722908      53.0      2017        18      -118.6059       34.1905          0   \n",
      "1722909      34.0      2017        15      -118.6006       34.2320          0   \n",
      "1722910      30.0      2017        12      -118.5809       34.2156          0   \n",
      "\n",
      "         area_id_2  area_id_3  area_id_4  area_id_5      ...        \\\n",
      "743              0          0          0          0      ...         \n",
      "744              0          0          0          0      ...         \n",
      "745              0          0          0          0      ...         \n",
      "746              0          0          0          0      ...         \n",
      "747              0          0          0          0      ...         \n",
      "749              0          0          0          0      ...         \n",
      "750              0          0          0          0      ...         \n",
      "751              0          0          0          0      ...         \n",
      "753              0          0          0          0      ...         \n",
      "754              0          0          0          0      ...         \n",
      "755              0          0          0          0      ...         \n",
      "756              0          0          0          0      ...         \n",
      "757              0          0          0          0      ...         \n",
      "758              0          0          0          0      ...         \n",
      "759              0          0          0          0      ...         \n",
      "761              0          0          0          0      ...         \n",
      "762              0          0          0          0      ...         \n",
      "763              0          0          0          0      ...         \n",
      "764              0          0          0          0      ...         \n",
      "766              0          0          0          0      ...         \n",
      "767              0          0          0          0      ...         \n",
      "768              0          0          0          0      ...         \n",
      "769              0          0          0          0      ...         \n",
      "770              0          0          0          0      ...         \n",
      "771              0          0          0          0      ...         \n",
      "773              0          0          0          0      ...         \n",
      "774              0          0          0          0      ...         \n",
      "775              0          0          0          0      ...         \n",
      "776              0          0          0          0      ...         \n",
      "777              0          0          0          0      ...         \n",
      "...            ...        ...        ...        ...      ...         \n",
      "1722879          0          0          0          0      ...         \n",
      "1722880          0          0          0          0      ...         \n",
      "1722882          0          0          0          0      ...         \n",
      "1722883          0          0          0          0      ...         \n",
      "1722884          0          0          0          0      ...         \n",
      "1722885          0          0          0          0      ...         \n",
      "1722886          0          0          0          0      ...         \n",
      "1722887          0          0          0          0      ...         \n",
      "1722888          0          0          0          0      ...         \n",
      "1722889          0          0          0          0      ...         \n",
      "1722890          0          0          0          0      ...         \n",
      "1722891          0          0          0          0      ...         \n",
      "1722892          0          0          0          0      ...         \n",
      "1722893          0          0          0          0      ...         \n",
      "1722894          0          0          0          0      ...         \n",
      "1722895          0          0          0          0      ...         \n",
      "1722896          0          0          0          0      ...         \n",
      "1722897          0          0          0          0      ...         \n",
      "1722898          0          0          0          0      ...         \n",
      "1722899          0          0          0          0      ...         \n",
      "1722901          0          0          0          0      ...         \n",
      "1722902          0          0          0          0      ...         \n",
      "1722903          0          0          0          0      ...         \n",
      "1722904          0          0          0          0      ...         \n",
      "1722905          0          0          0          0      ...         \n",
      "1722906          0          0          0          0      ...         \n",
      "1722907          0          0          0          0      ...         \n",
      "1722908          0          0          0          0      ...         \n",
      "1722909          0          0          0          0      ...         \n",
      "1722910          0          0          0          0      ...         \n",
      "\n",
      "         month_occ_10  month_occ_11  month_occ_12  weekday_occ_0  \\\n",
      "743                 0             0             0              0   \n",
      "744                 0             0             0              0   \n",
      "745                 0             0             0              0   \n",
      "746                 0             0             0              0   \n",
      "747                 0             0             0              0   \n",
      "749                 0             0             0              0   \n",
      "750                 1             0             0              0   \n",
      "751                 1             0             0              0   \n",
      "753                 1             0             0              0   \n",
      "754                 1             0             0              0   \n",
      "755                 1             0             0              0   \n",
      "756                 1             0             0              0   \n",
      "757                 1             0             0              0   \n",
      "758                 0             0             0              0   \n",
      "759                 0             0             0              0   \n",
      "761                 0             0             0              0   \n",
      "762                 0             0             0              0   \n",
      "763                 0             0             0              0   \n",
      "764                 0             0             0              0   \n",
      "766                 0             0             0              0   \n",
      "767                 0             0             0              0   \n",
      "768                 0             0             0              1   \n",
      "769                 0             0             0              1   \n",
      "770                 0             0             0              0   \n",
      "771                 0             0             0              1   \n",
      "773                 0             0             0              0   \n",
      "774                 0             0             0              0   \n",
      "775                 0             0             0              0   \n",
      "776                 0             0             0              0   \n",
      "777                 0             0             0              0   \n",
      "...               ...           ...           ...            ...   \n",
      "1722879             0             1             0              0   \n",
      "1722880             0             1             0              0   \n",
      "1722882             0             1             0              0   \n",
      "1722883             1             0             0              0   \n",
      "1722884             0             1             0              0   \n",
      "1722885             0             1             0              0   \n",
      "1722886             0             1             0              0   \n",
      "1722887             0             1             0              0   \n",
      "1722888             1             0             0              0   \n",
      "1722889             0             1             0              0   \n",
      "1722890             1             0             0              1   \n",
      "1722891             0             1             0              0   \n",
      "1722892             0             1             0              0   \n",
      "1722893             0             0             0              0   \n",
      "1722894             0             1             0              0   \n",
      "1722895             1             0             0              0   \n",
      "1722896             0             1             0              0   \n",
      "1722897             0             1             0              0   \n",
      "1722898             0             1             0              0   \n",
      "1722899             0             1             0              0   \n",
      "1722901             1             0             0              0   \n",
      "1722902             0             1             0              0   \n",
      "1722903             1             0             0              1   \n",
      "1722904             0             1             0              0   \n",
      "1722905             0             0             0              0   \n",
      "1722906             0             1             0              0   \n",
      "1722907             0             1             0              0   \n",
      "1722908             0             1             0              0   \n",
      "1722909             0             1             0              0   \n",
      "1722910             1             0             0              0   \n",
      "\n",
      "         weekday_occ_1  weekday_occ_2  weekday_occ_3  weekday_occ_4  \\\n",
      "743                  0              0              0              0   \n",
      "744                  0              0              1              0   \n",
      "745                  0              0              0              0   \n",
      "746                  0              0              0              1   \n",
      "747                  0              0              1              0   \n",
      "749                  0              0              1              0   \n",
      "750                  0              0              0              0   \n",
      "751                  0              0              0              0   \n",
      "753                  0              0              0              0   \n",
      "754                  0              0              0              0   \n",
      "755                  0              0              0              1   \n",
      "756                  0              0              0              1   \n",
      "757                  0              0              0              0   \n",
      "758                  1              0              0              0   \n",
      "759                  0              0              0              1   \n",
      "761                  1              0              0              0   \n",
      "762                  0              0              1              0   \n",
      "763                  0              0              0              0   \n",
      "764                  0              0              0              0   \n",
      "766                  0              0              0              0   \n",
      "767                  0              0              0              1   \n",
      "768                  0              0              0              0   \n",
      "769                  0              0              0              0   \n",
      "770                  0              1              0              0   \n",
      "771                  0              0              0              0   \n",
      "773                  0              0              1              0   \n",
      "774                  0              0              0              1   \n",
      "775                  0              0              0              0   \n",
      "776                  1              0              0              0   \n",
      "777                  0              0              1              0   \n",
      "...                ...            ...            ...            ...   \n",
      "1722879              0              1              0              0   \n",
      "1722880              0              0              1              0   \n",
      "1722882              0              1              0              0   \n",
      "1722883              1              0              0              0   \n",
      "1722884              0              1              0              0   \n",
      "1722885              0              0              1              0   \n",
      "1722886              0              0              1              0   \n",
      "1722887              0              0              1              0   \n",
      "1722888              0              0              0              0   \n",
      "1722889              0              0              1              0   \n",
      "1722890              0              0              0              0   \n",
      "1722891              0              0              1              0   \n",
      "1722892              0              1              0              0   \n",
      "1722893              0              0              0              1   \n",
      "1722894              0              0              1              0   \n",
      "1722895              0              1              0              0   \n",
      "1722896              0              0              1              0   \n",
      "1722897              0              0              1              0   \n",
      "1722898              0              0              1              0   \n",
      "1722899              0              0              1              0   \n",
      "1722901              0              1              0              0   \n",
      "1722902              0              1              0              0   \n",
      "1722903              0              0              0              0   \n",
      "1722904              0              0              0              1   \n",
      "1722905              0              0              0              0   \n",
      "1722906              0              0              0              1   \n",
      "1722907              0              0              0              1   \n",
      "1722908              0              0              0              1   \n",
      "1722909              0              0              0              1   \n",
      "1722910              0              0              0              0   \n",
      "\n",
      "         weekday_occ_5  weekday_occ_6  \n",
      "743                  0              1  \n",
      "744                  0              0  \n",
      "745                  0              1  \n",
      "746                  0              0  \n",
      "747                  0              0  \n",
      "749                  0              0  \n",
      "750                  0              1  \n",
      "751                  0              1  \n",
      "753                  1              0  \n",
      "754                  1              0  \n",
      "755                  0              0  \n",
      "756                  0              0  \n",
      "757                  0              1  \n",
      "758                  0              0  \n",
      "759                  0              0  \n",
      "761                  0              0  \n",
      "762                  0              0  \n",
      "763                  0              1  \n",
      "764                  0              1  \n",
      "766                  0              1  \n",
      "767                  0              0  \n",
      "768                  0              0  \n",
      "769                  0              0  \n",
      "770                  0              0  \n",
      "771                  0              0  \n",
      "773                  0              0  \n",
      "774                  0              0  \n",
      "775                  1              0  \n",
      "776                  0              0  \n",
      "777                  0              0  \n",
      "...                ...            ...  \n",
      "1722879              0              0  \n",
      "1722880              0              0  \n",
      "1722882              0              0  \n",
      "1722883              0              0  \n",
      "1722884              0              0  \n",
      "1722885              0              0  \n",
      "1722886              0              0  \n",
      "1722887              0              0  \n",
      "1722888              1              0  \n",
      "1722889              0              0  \n",
      "1722890              0              0  \n",
      "1722891              0              0  \n",
      "1722892              0              0  \n",
      "1722893              0              0  \n",
      "1722894              0              0  \n",
      "1722895              0              0  \n",
      "1722896              0              0  \n",
      "1722897              0              0  \n",
      "1722898              0              0  \n",
      "1722899              0              0  \n",
      "1722901              0              0  \n",
      "1722902              0              0  \n",
      "1722903              0              0  \n",
      "1722904              0              0  \n",
      "1722905              1              0  \n",
      "1722906              0              0  \n",
      "1722907              0              0  \n",
      "1722908              0              0  \n",
      "1722909              0              0  \n",
      "1722910              0              1  \n",
      "\n",
      "[190184 rows x 67 columns]\n"
     ]
    }
   ],
   "source": [
    "print(ml_df)"
   ]
  },
  {
   "cell_type": "code",
   "execution_count": null,
   "metadata": {},
   "outputs": [],
   "source": []
  }
 ],
 "metadata": {
  "kernelspec": {
   "display_name": "Python 3",
   "language": "python",
   "name": "python3"
  },
  "language_info": {
   "codemirror_mode": {
    "name": "ipython",
    "version": 3
   },
   "file_extension": ".py",
   "mimetype": "text/x-python",
   "name": "python",
   "nbconvert_exporter": "python",
   "pygments_lexer": "ipython3",
   "version": "3.5.2"
  }
 },
 "nbformat": 4,
 "nbformat_minor": 2
}
